{
 "cells": [
  {
   "cell_type": "code",
   "execution_count": 1,
   "metadata": {
    "tags": [
     "remove-cell"
    ]
   },
   "outputs": [],
   "source": [
    "from IPython.display import YouTubeVideo, IFrame"
   ]
  },
  {
   "cell_type": "markdown",
   "metadata": {},
   "source": [
    "# Concepts\n",
    "\n",
    "This block is about how we pull off the trick to turn geography into numbers statistics can understand. At this point, we dive right into the more methodological part of the course; so you can expect a bit of a ramp up in the conceptual sections. Take a deep breath and jump in, it's well worth the effort! At the same time, the coding side of each block will start looking more and more familiar because we are starting to repeat concepts and we will introduce less _new_ building blocks and instead rely more and more on what we have seen, just adding small bits here and there."
   ]
  },
  {
   "cell_type": "markdown",
   "metadata": {},
   "source": [
    "## Space, formally\n",
    "\n",
    "*How do you express geographical relations between objects (e.g. areas, points) in a way that can be used in statistical analysis?* This is exactly the core of what we get into in here. There are several ways, of course, but one of the most widespread approaches is what is termed spatial weights matrices. We motivate their role and define them in the following clip."
   ]
  },
  {
   "cell_type": "markdown",
   "metadata": {},
   "source": [
    "```{sidebar} Slides\n",
    "\n",
    "The slides used in the clip are available at:\n",
    "\n",
    "- <a href=\"../slides/block_E_i.html\"> `[HTML]` </a>\n",
    "- <a href=\"../slides/pdf/block_E_i.pdf\"> `[PDF]` </a>\n",
    "\n",
    "```"
   ]
  },
  {
   "cell_type": "code",
   "execution_count": 2,
   "metadata": {
    "tags": [
     "remove-input"
    ]
   },
   "outputs": [
    {
     "data": {
      "text/html": [
       "\n",
       "        <iframe\n",
       "            width=\"500\"\n",
       "            height=\"300\"\n",
       "            src=\"https://liverpool.instructuremedia.com/embed/f9cab6bf-96dd-45b4-ae17-a9987db72eb8\"\n",
       "            frameborder=\"0\"\n",
       "            allowfullscreen\n",
       "        ></iframe>\n",
       "        "
      ],
      "text/plain": [
       "<IPython.lib.display.IFrame at 0x7f1218123290>"
      ]
     },
     "execution_count": 2,
     "metadata": {},
     "output_type": "execute_result"
    }
   ],
   "source": [
    "IFrame(\"https://liverpool.instructuremedia.com/embed/f9cab6bf-96dd-45b4-ae17-a9987db72eb8\",\n",
    "       width=500,\n",
    "       height=300\n",
    "      )"
   ]
  },
  {
   "cell_type": "markdown",
   "metadata": {},
   "source": [
    "Once you have watched the clip above, here's a quiz for you!\n",
    "\n",
    "Imagine a geography of squared regions (ie. a grid) with the following structure:\n",
    "\n",
    "```{image} ../figs/l05_geo.png\n",
    ":alt: regions\n",
    ":class: bg-primary\n",
    ":width: 500px\n",
    ":align: center\n",
    "```\n",
    "\n",
    "Each region is assigned an ID; so the most north-west region is 1, while the most south-east is 9. Here's a question:\n",
    "\n",
    "> *What is the dimension of the Spatial Weights Matrix for the region above?*\n",
    "\n",
    "```{tip}\n",
    ":class: dropdown\n",
    "\n",
    "It is one of the following:\n",
    "\n",
    "1. $3 \\times 3$\n",
    "1. $9 \\times 3$\n",
    "1. $3 \\times 9$\n",
    "1. $9 \\times 9$\n",
    "```\n",
    "\n",
    "```{admonition} Solution\n",
    ":class: dropdown\n",
    "\n",
    "It is nine rows by nine columns. To see why, remember that spatial weights matrices are $N \\times N$, as they need to record the spatial relationship between every single observation (regions in the example above), with every other single observation on the dataset.\n",
    "```\n"
   ]
  },
  {
   "cell_type": "markdown",
   "metadata": {},
   "source": [
    "## Types of Weights\n",
    "\n",
    "Once we know what spatial weights are generally, in this clip we dive into some of the specific types we can build for our analyses."
   ]
  },
  {
   "cell_type": "markdown",
   "metadata": {},
   "source": [
    "```{sidebar} Slides\n",
    "\n",
    "The slides used in the clip are available at:\n",
    "\n",
    "- <a href=\"../slides/block_E_ii.html\"> `[HTML]` </a>\n",
    "- <a href=\"../slides/pdf/block_E_ii.pdf\"> `[PDF]` </a>\n",
    "\n",
    "```"
   ]
  },
  {
   "cell_type": "code",
   "execution_count": 3,
   "metadata": {
    "tags": [
     "remove-input"
    ]
   },
   "outputs": [
    {
     "data": {
      "text/html": [
       "\n",
       "        <iframe\n",
       "            width=\"500\"\n",
       "            height=\"300\"\n",
       "            src=\"https://liverpool.instructuremedia.com/embed/b357c1a5-34d3-4370-accb-aface19238f0\"\n",
       "            frameborder=\"0\"\n",
       "            allowfullscreen\n",
       "        ></iframe>\n",
       "        "
      ],
      "text/plain": [
       "<IPython.lib.display.IFrame at 0x7f11fe220510>"
      ]
     },
     "execution_count": 3,
     "metadata": {},
     "output_type": "execute_result"
    }
   ],
   "source": [
    "IFrame(\"https://liverpool.instructuremedia.com/embed/b357c1a5-34d3-4370-accb-aface19238f0\",\n",
    "       width=500,\n",
    "       height=300\n",
    "      )"
   ]
  },
  {
   "cell_type": "markdown",
   "metadata": {},
   "source": [
    "Here is a second question for you once you have watched the clip above:\n",
    "\n",
    "> *What does the rook contiguity spatial weights matrix look like for the region abvoe? Can you write it down by hand?*\n",
    "\n",
    "````{admonition} Solution\n",
    ":class: dropdown\n",
    "\n",
    "Here it is:\n",
    "\n",
    "```{image} ../figs/l05_geo_w.png\n",
    ":alt: regions\n",
    ":class: bg-primary\n",
    ":width: 500px\n",
    ":align: center\n",
    "```\n",
    "````"
   ]
  },
  {
   "cell_type": "markdown",
   "metadata": {},
   "source": [
    "##### My answer to rook contiguity matrix:\n",
    "\n",
    "\n",
    "|   | 1 | 2 | 3 | 4 | 5 | 6 | 7 | 8 | 9 |\n",
    "|---|---|---|---|---|---|---|---|---|---|\n",
    "| 1 | 0 | 1 | 0 | 1 | 0 | 0 | 0 | 0 | 0 |\n",
    "| 2 | 1 | 0 | 1 | 0 | 1 | 0 | 0 | 0 | 0 |\n",
    "| 3 | 0 | 1 | 0 | 0 | 0 | 1 | 0 | 0 | 0 |\n",
    "| 4 | 1 | 0 | 0 | 0 | 1 | 0 | 1 | 0 | 0 |\n",
    "| 5 | 0 | 1 | 0 | 1 | 0 | 1 | 0 | 1 | 0 |\n",
    "| 6 | 0 | 0 | 1 | 0 | 1 | 0 | 0 | 0 | 1 |\n",
    "| 7 | 0 | 0 | 0 | 1 | 0 | 0 | 0 | 1 | 0 |\n",
    "| 8 | 0 | 0 | 0 | 0 | 1 | 0 | 1 | 0 | 1 |\n",
    "| 9 | 0 | 0 | 0 | 0 | 0 | 1 | 0 | 1 | 0 |\n",
    "\n",
    "###### Correct!"
   ]
  },
  {
   "cell_type": "markdown",
   "metadata": {},
   "source": [
    "## The Spatial Lag\n",
    "\n",
    "We wrap up the the set of concepts in this block with one of the applications that makes spatial weights matrices so important: the spatial lag. Watch the clip to find out what it is and then jump over the [next part](lab_E) to see how all of these ideas translate into delicious, juicy Python code!"
   ]
  },
  {
   "cell_type": "markdown",
   "metadata": {},
   "source": [
    "```{sidebar} Slides\n",
    "\n",
    "The slides used in the clip are available at:\n",
    "\n",
    "- <a href=\"../slides/block_E_iii.html\"> `[HTML]` </a>\n",
    "- <a href=\"../slides/pdf/block_E_iii.pdf\"> `[PDF]` </a>\n",
    "\n",
    "```"
   ]
  },
  {
   "cell_type": "code",
   "execution_count": 4,
   "metadata": {
    "tags": [
     "remove-input"
    ]
   },
   "outputs": [
    {
     "data": {
      "text/html": [
       "\n",
       "        <iframe\n",
       "            width=\"500\"\n",
       "            height=\"300\"\n",
       "            src=\"https://liverpool.instructuremedia.com/embed/213617bd-d096-4355-bf85-c8ea08cf7eb2\"\n",
       "            frameborder=\"0\"\n",
       "            allowfullscreen\n",
       "        ></iframe>\n",
       "        "
      ],
      "text/plain": [
       "<IPython.lib.display.IFrame at 0x7f11fe220d90>"
      ]
     },
     "execution_count": 4,
     "metadata": {},
     "output_type": "execute_result"
    }
   ],
   "source": [
    "IFrame(\"https://liverpool.instructuremedia.com/embed/213617bd-d096-4355-bf85-c8ea08cf7eb2\",\n",
    "       width=500,\n",
    "       height=300\n",
    "      )"
   ]
  },
  {
   "cell_type": "markdown",
   "metadata": {},
   "source": [
    "## More materials\n",
    "\n",
    "If you want a similar but slightly different take on spatial weights by Luc Anselin, one of the biggest minds in the field of spatial analysis, I strongly recommend you watch the following two clips, part of the course offered by the Spatial Data Center at the University of Chicago:"
   ]
  },
  {
   "cell_type": "markdown",
   "metadata": {},
   "source": [
    "- Lecture on \"Spatial Weights\""
   ]
  },
  {
   "cell_type": "code",
   "execution_count": 5,
   "metadata": {
    "tags": [
     "remove-input",
     "hide-output"
    ]
   },
   "outputs": [
    {
     "data": {
      "image/jpeg": "[encoded data removed]",
      "text/html": [
       "\n",
       "        <iframe\n",
       "            width=\"400\"\n",
       "            height=\"300\"\n",
       "            src=\"https://www.youtube.com/embed/ydFmI6ZGLQ8\"\n",
       "            frameborder=\"0\"\n",
       "            allowfullscreen\n",
       "        ></iframe>\n",
       "        "
      ],
      "text/plain": [
       "<IPython.lib.display.YouTubeVideo at 0x7f11fe226710>"
      ]
     },
     "execution_count": 5,
     "metadata": {},
     "output_type": "execute_result"
    }
   ],
   "source": [
    "YouTubeVideo(\"ydFmI6ZGLQ8\")"
   ]
  },
  {
   "cell_type": "markdown",
   "metadata": {},
   "source": [
    "- Lecture on \"Spatial Lag\", you can ignore the last five minutes as they are a bit more advanced\n"
   ]
  },
  {
   "cell_type": "code",
   "execution_count": 6,
   "metadata": {
    "tags": [
     "remove-input",
     "hide-output"
    ]
   },
   "outputs": [
    {
     "data": {
      "image/jpeg": "[encoded data removed]",
      "text/html": [
       "\n",
       "        <iframe\n",
       "            width=\"400\"\n",
       "            height=\"300\"\n",
       "            src=\"https://www.youtube.com/embed/MQACCcfTpXc\"\n",
       "            frameborder=\"0\"\n",
       "            allowfullscreen\n",
       "        ></iframe>\n",
       "        "
      ],
      "text/plain": [
       "<IPython.lib.display.YouTubeVideo at 0x7f11fe22d7d0>"
      ]
     },
     "execution_count": 6,
     "metadata": {},
     "output_type": "execute_result"
    }
   ],
   "source": [
    "YouTubeVideo(\"MQACCcfTpXc\")"
   ]
  },
  {
   "cell_type": "markdown",
   "metadata": {},
   "source": [
    "\n",
    "## Further readings\n",
    "\n",
    "If you liked what you saw in this section and would like to digg deeper into spatial weights, the following readings are good next steps:\n",
    "\n",
    "```{margin}\n",
    "The chapter is available for free [here](https://geographicdata.science/book/notebooks/04_spatial_weights.html)\n",
    "```\n",
    "- Spatial weights chapter on the GDS book (in progress) {cite}`reyABwolf`.\n",
    "- For a more advanced and detailed treatment, the chapters on spatial weights in the Anselin & Rey book {cite}`anselin2014modern` are the best source."
   ]
  }
 ],
 "metadata": {
  "kernelspec": {
   "display_name": "Python 3",
   "language": "python",
   "name": "python3"
  },
  "language_info": {
   "codemirror_mode": {
    "name": "ipython",
    "version": 3
   },
   "file_extension": ".py",
   "mimetype": "text/x-python",
   "name": "python",
   "nbconvert_exporter": "python",
   "pygments_lexer": "ipython3",
   "version": "3.7.8"
  }
 },
 "nbformat": 4,
 "nbformat_minor": 4
}
