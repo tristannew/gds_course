{
 "cells": [
  {
   "cell_type": "markdown",
   "metadata": {},
   "source": [
    "# Hands-on\n",
    "\n",
    "Once we know a bit about what computational notebooks are and why we should care about them, let's jump to using them! This section introduces you to using Python for manipulating tabular data. Please read through it carefully and pay attention to how ideas about manipulating data are translated into Python code that \"does stuff\". For this part, you can read directly from the course website, although it is recommended you follow the section interactively by running code on your own.\n",
    "\n",
    "Once you have read through and have a bit of a sense of how things work, jump on the [Do-It-Yourself section](diy_B), which will provide you with a challenge to complete it on your own, and will allow you to put what you have already learnt to good use. Happy hacking!\n"
   ]
  },
  {
   "cell_type": "markdown",
   "metadata": {},
   "source": [
    "(lab_A-data_munging)=\n",
    "## Data munging\n",
    "\n",
    "Real world datasets are messy. There is no way around it: datasets have \"holes\" (missing data), the amount of formats in which data can be stored is endless, and the best structure to share data is not always the optimum to analyze them, hence the need to [munge](http://dictionary.reference.com/browse/munge) them. As has been correctly pointed out in many outlets ([e.g.](http://www.nytimes.com/2014/08/18/technology/for-big-data-scientists-hurdle-to-insights-is-janitor-work.html?_r=0)), much of the time [spent](https://twitter.com/BigDataBorat/status/306596352991830016) in what is called (Geo-)Data Science is related not only to sophisticated modeling and insight, but has to do with much more basic and less exotic tasks such as obtaining data, processing, turning them into a shape that makes analysis possible, and exploring it to get to know their basic properties. \n",
    "\n",
    "For how labor intensive and relevant this aspect is, there is surprisingly very little published on patterns, techniques, and best practices for quick and efficient data cleaning, manipulation, and transformation. In this session, you will use a few real world datasets and learn how to process them into Python so they can be transformed and manipulated, if necessary, and analyzed. For this, we will introduce some of the bread and butter of data analysis and scientific computing in Python. These are fundamental tools that are constantly used in almost any task relating to data analysis.\n",
    "\n",
    "This notebook covers the basic and the content that is expected to be learnt by every student. We use a prepared dataset that saves us much of the more intricate processing that goes beyond the introductory level the session is aimed at. As a companion to this introduction, there is an additional notebook (see link on the website page for Lab 01) that covers how the dataset used here was prepared from raw data downloaded from the internet, and includes some additional exercises you can do if you want dig deeper into the content of this lab.\n",
    "\n",
    "In this notebook, we discuss several patterns to clean and structure data properly, including tidying, subsetting, and aggregating; and we finish with some basic visualization. An additional extension presents more advanced tricks to manipulate tabular data.\n",
    "\n",
    "Before we get our hands data-dirty, let us import all the additional libraries we will need, so we can get that out of the way and focus on the task at hand:"
   ]
  },
  {
   "cell_type": "code",
   "execution_count": 1,
   "metadata": {},
   "outputs": [],
   "source": [
    "# This ensures visualizations are plotted inside the notebook\n",
    "%matplotlib inline\n",
    "\n",
    "import os              # This provides several system utilities\n",
    "import pandas as pd    # This is the workhorse of data munging in Python\n",
    "import seaborn as sns  # This allows us to efficiently and beautifully plot"
   ]
  },
  {
   "cell_type": "markdown",
   "metadata": {},
   "source": [
    "## Dataset\n",
    "\n",
    "We will be exploring some demographic characteristics in Liverpool. To do that, we will use a dataset that contains population counts, split by ethnic origin. These counts are aggregated at the [Lower Layer Super Output Area](http://www.ons.gov.uk/methodology/geography/ukgeographies/censusgeography#output-area-oa) (LSOA from now on). LSOAs are an official Census geography defined by the Office of National Statistics. You can think of them, more or less, as neighbourhoods. Many data products (Census, deprivation indices, etc.) use LSOAs as one of their main geographies."
   ]
  },
  {
   "cell_type": "markdown",
   "metadata": {},
   "source": [
    "To make things easier, we will read data from a file posted online so, for now, you do not need to download any dataset:\n",
    "\n",
    "````{margin}\n",
    "```{admonition} Important\n",
    "Make sure you are connected to the internet when you run this cell\n",
    "```\n",
    "````"
   ]
  },
  {
   "cell_type": "code",
   "execution_count": 2,
   "metadata": {},
   "outputs": [],
   "source": [
    "# Read table\n",
    "db = pd.read_csv(\"https://darribas.org/gds_course/content/data/liv_pop.csv\", \n",
    "                 index_col='GeographyCode')"
   ]
  },
  {
   "cell_type": "markdown",
   "metadata": {},
   "source": [
    "Let us stop for a minute to learn how we have read the file. Here are the main aspects to keep in mind:\n",
    "\n",
    "* We are using the method `read_csv` from the `pandas` library, which we have imported with the alias `pd`.\n",
    "* In this form, all that is required is to pass the path to the file we want to read, which in this case is a web address.\n",
    "* The argument `index_col` is not strictly necessary but allows us to choose one of the columns as the index of the table. More on indices below.\n",
    "* We are using `read_csv` because the file we want to read is in the `csv` format. However, `pandas` allows for many more formats to be read and write. A full list of formats supported may be found [here](https://pandas.pydata.org/docs/user_guide/io.html).\n",
    "* To ensure we can access the data we have read, we store it in an _object_ that we call `db`. We will see more on what we can do with it below but, for now, just keep in mind that allows us to save the result of `read_csv`.\n",
    "\n",
    "````{admonition} Alternative\n",
    "Instead of reading the file directly off the web, it is possible to download it manually, store it on your computer, and read it locally. To do that, you can follow these steps:\n",
    "1. Download the file by right-clicking on <a href=\"../data/liv_pop.csv\"> this link </a> and saving the file\n",
    "1. Place the file on the _same folder as the notebook_ where you intend to read it\n",
    "1. Replace the code in the cell above by:\n",
    "```python\n",
    "db = pd.read_csv(\"liv_pop.csv\", index_col=\"GeographyCode\")\n",
    "```\n",
    "````"
   ]
  },
  {
   "cell_type": "markdown",
   "metadata": {},
   "source": [
    "(lab_B:slices)=\n",
    "## Data, sliced and diced\n",
    "\n",
    "Now we are ready to start playing and interrogating the dataset! What we have at our fingertips is a table that summarizes, for each of the LSOAs in Liverpool, how many people live in each, by the region of the world where they were born. We call these tables `DataFrame` objects, and they have a lot of functionality built-in to explore and manipulate the data they contain. Let's explore a few of those cool tricks!\n",
    "\n",
    "### Structure\n",
    "\n",
    "The first aspect worth spending a bit of time is the structure of a `DataFrame`. We can print it by simply typing its name:"
   ]
  },
  {
   "cell_type": "code",
   "execution_count": 3,
   "metadata": {},
   "outputs": [
    {
     "data": {
      "text/html": [
       "<div>\n",
       "<style scoped>\n",
       "    .dataframe tbody tr th:only-of-type {\n",
       "        vertical-align: middle;\n",
       "    }\n",
       "\n",
       "    .dataframe tbody tr th {\n",
       "        vertical-align: top;\n",
       "    }\n",
       "\n",
       "    .dataframe thead th {\n",
       "        text-align: right;\n",
       "    }\n",
       "</style>\n",
       "<table border=\"1\" class=\"dataframe\">\n",
       "  <thead>\n",
       "    <tr style=\"text-align: right;\">\n",
       "      <th></th>\n",
       "      <th>Europe</th>\n",
       "      <th>Africa</th>\n",
       "      <th>Middle East and Asia</th>\n",
       "      <th>The Americas and the Caribbean</th>\n",
       "      <th>Antarctica and Oceania</th>\n",
       "    </tr>\n",
       "    <tr>\n",
       "      <th>GeographyCode</th>\n",
       "      <th></th>\n",
       "      <th></th>\n",
       "      <th></th>\n",
       "      <th></th>\n",
       "      <th></th>\n",
       "    </tr>\n",
       "  </thead>\n",
       "  <tbody>\n",
       "    <tr>\n",
       "      <th>E01006512</th>\n",
       "      <td>910</td>\n",
       "      <td>106</td>\n",
       "      <td>840</td>\n",
       "      <td>24</td>\n",
       "      <td>0</td>\n",
       "    </tr>\n",
       "    <tr>\n",
       "      <th>E01006513</th>\n",
       "      <td>2225</td>\n",
       "      <td>61</td>\n",
       "      <td>595</td>\n",
       "      <td>53</td>\n",
       "      <td>7</td>\n",
       "    </tr>\n",
       "    <tr>\n",
       "      <th>E01006514</th>\n",
       "      <td>1786</td>\n",
       "      <td>63</td>\n",
       "      <td>193</td>\n",
       "      <td>61</td>\n",
       "      <td>5</td>\n",
       "    </tr>\n",
       "    <tr>\n",
       "      <th>E01006515</th>\n",
       "      <td>974</td>\n",
       "      <td>29</td>\n",
       "      <td>185</td>\n",
       "      <td>18</td>\n",
       "      <td>2</td>\n",
       "    </tr>\n",
       "    <tr>\n",
       "      <th>E01006518</th>\n",
       "      <td>1531</td>\n",
       "      <td>69</td>\n",
       "      <td>73</td>\n",
       "      <td>19</td>\n",
       "      <td>4</td>\n",
       "    </tr>\n",
       "    <tr>\n",
       "      <th>...</th>\n",
       "      <td>...</td>\n",
       "      <td>...</td>\n",
       "      <td>...</td>\n",
       "      <td>...</td>\n",
       "      <td>...</td>\n",
       "    </tr>\n",
       "    <tr>\n",
       "      <th>E01033764</th>\n",
       "      <td>2106</td>\n",
       "      <td>32</td>\n",
       "      <td>49</td>\n",
       "      <td>15</td>\n",
       "      <td>0</td>\n",
       "    </tr>\n",
       "    <tr>\n",
       "      <th>E01033765</th>\n",
       "      <td>1277</td>\n",
       "      <td>21</td>\n",
       "      <td>33</td>\n",
       "      <td>17</td>\n",
       "      <td>3</td>\n",
       "    </tr>\n",
       "    <tr>\n",
       "      <th>E01033766</th>\n",
       "      <td>1028</td>\n",
       "      <td>12</td>\n",
       "      <td>20</td>\n",
       "      <td>8</td>\n",
       "      <td>7</td>\n",
       "    </tr>\n",
       "    <tr>\n",
       "      <th>E01033767</th>\n",
       "      <td>1003</td>\n",
       "      <td>29</td>\n",
       "      <td>29</td>\n",
       "      <td>5</td>\n",
       "      <td>1</td>\n",
       "    </tr>\n",
       "    <tr>\n",
       "      <th>E01033768</th>\n",
       "      <td>1016</td>\n",
       "      <td>69</td>\n",
       "      <td>111</td>\n",
       "      <td>21</td>\n",
       "      <td>6</td>\n",
       "    </tr>\n",
       "  </tbody>\n",
       "</table>\n",
       "<p>298 rows × 5 columns</p>\n",
       "</div>"
      ],
      "text/plain": [
       "               Europe  Africa  Middle East and Asia  \\\n",
       "GeographyCode                                         \n",
       "E01006512         910     106                   840   \n",
       "E01006513        2225      61                   595   \n",
       "E01006514        1786      63                   193   \n",
       "E01006515         974      29                   185   \n",
       "E01006518        1531      69                    73   \n",
       "...               ...     ...                   ...   \n",
       "E01033764        2106      32                    49   \n",
       "E01033765        1277      21                    33   \n",
       "E01033766        1028      12                    20   \n",
       "E01033767        1003      29                    29   \n",
       "E01033768        1016      69                   111   \n",
       "\n",
       "               The Americas and the Caribbean  Antarctica and Oceania  \n",
       "GeographyCode                                                          \n",
       "E01006512                                  24                       0  \n",
       "E01006513                                  53                       7  \n",
       "E01006514                                  61                       5  \n",
       "E01006515                                  18                       2  \n",
       "E01006518                                  19                       4  \n",
       "...                                       ...                     ...  \n",
       "E01033764                                  15                       0  \n",
       "E01033765                                  17                       3  \n",
       "E01033766                                   8                       7  \n",
       "E01033767                                   5                       1  \n",
       "E01033768                                  21                       6  \n",
       "\n",
       "[298 rows x 5 columns]"
      ]
     },
     "execution_count": 3,
     "metadata": {},
     "output_type": "execute_result"
    }
   ],
   "source": [
    "db"
   ]
  },
  {
   "cell_type": "markdown",
   "metadata": {},
   "source": [
    "Note the printing is cut to keep a nice and compact view, but enough to see its structure. Since they represent a table of data, `DataFrame` objects have two dimensions: rows and columns. Each of these is automatically assigned a name in what we will call its *index*. When printing, the index of each dimension is rendered in bold, as opposed to the standard rendering for the content. In the example above, we can see how the column index is automatically picked up from the `.csv` file's column names. For rows, we have specified when reading the file we wanted the column `GeographyCode`, so that is used. If we hadn't specified any, `pandas` will automatically generate a sequence starting in `0` and going all the way to the number of rows minus one. This is the standard structure of a `DataFrame` object, so we will come to it over and over. Importantly, even when we move to spatial data, our datasets will have a similar structure.\n",
    "\n",
    "One final feature that is worth mentioning about these tables is that they can hold columns with different types of data. In our example, this is not used as we have counts (or `int`, for integer, types) for each column. But it is useful to keep in mind we can combine this with columns that hold other type of data such as categories, text (`str`, for string), dates or, as we will see later in the course, geographic features."
   ]
  },
  {
   "cell_type": "markdown",
   "metadata": {},
   "source": [
    "\n",
    "### Inspect\n",
    "\n",
    "Inspecting what it looks like. We can check the top (bottom) X lines of the table by passing X to the method `head` (`tail`). For example, for the top/bottom five lines:"
   ]
  },
  {
   "cell_type": "code",
   "execution_count": 4,
   "metadata": {},
   "outputs": [
    {
     "data": {
      "text/html": [
       "<div>\n",
       "<style scoped>\n",
       "    .dataframe tbody tr th:only-of-type {\n",
       "        vertical-align: middle;\n",
       "    }\n",
       "\n",
       "    .dataframe tbody tr th {\n",
       "        vertical-align: top;\n",
       "    }\n",
       "\n",
       "    .dataframe thead th {\n",
       "        text-align: right;\n",
       "    }\n",
       "</style>\n",
       "<table border=\"1\" class=\"dataframe\">\n",
       "  <thead>\n",
       "    <tr style=\"text-align: right;\">\n",
       "      <th></th>\n",
       "      <th>Europe</th>\n",
       "      <th>Africa</th>\n",
       "      <th>Middle East and Asia</th>\n",
       "      <th>The Americas and the Caribbean</th>\n",
       "      <th>Antarctica and Oceania</th>\n",
       "    </tr>\n",
       "    <tr>\n",
       "      <th>GeographyCode</th>\n",
       "      <th></th>\n",
       "      <th></th>\n",
       "      <th></th>\n",
       "      <th></th>\n",
       "      <th></th>\n",
       "    </tr>\n",
       "  </thead>\n",
       "  <tbody>\n",
       "    <tr>\n",
       "      <th>E01006512</th>\n",
       "      <td>910</td>\n",
       "      <td>106</td>\n",
       "      <td>840</td>\n",
       "      <td>24</td>\n",
       "      <td>0</td>\n",
       "    </tr>\n",
       "    <tr>\n",
       "      <th>E01006513</th>\n",
       "      <td>2225</td>\n",
       "      <td>61</td>\n",
       "      <td>595</td>\n",
       "      <td>53</td>\n",
       "      <td>7</td>\n",
       "    </tr>\n",
       "    <tr>\n",
       "      <th>E01006514</th>\n",
       "      <td>1786</td>\n",
       "      <td>63</td>\n",
       "      <td>193</td>\n",
       "      <td>61</td>\n",
       "      <td>5</td>\n",
       "    </tr>\n",
       "    <tr>\n",
       "      <th>E01006515</th>\n",
       "      <td>974</td>\n",
       "      <td>29</td>\n",
       "      <td>185</td>\n",
       "      <td>18</td>\n",
       "      <td>2</td>\n",
       "    </tr>\n",
       "    <tr>\n",
       "      <th>E01006518</th>\n",
       "      <td>1531</td>\n",
       "      <td>69</td>\n",
       "      <td>73</td>\n",
       "      <td>19</td>\n",
       "      <td>4</td>\n",
       "    </tr>\n",
       "  </tbody>\n",
       "</table>\n",
       "</div>"
      ],
      "text/plain": [
       "               Europe  Africa  Middle East and Asia  \\\n",
       "GeographyCode                                         \n",
       "E01006512         910     106                   840   \n",
       "E01006513        2225      61                   595   \n",
       "E01006514        1786      63                   193   \n",
       "E01006515         974      29                   185   \n",
       "E01006518        1531      69                    73   \n",
       "\n",
       "               The Americas and the Caribbean  Antarctica and Oceania  \n",
       "GeographyCode                                                          \n",
       "E01006512                                  24                       0  \n",
       "E01006513                                  53                       7  \n",
       "E01006514                                  61                       5  \n",
       "E01006515                                  18                       2  \n",
       "E01006518                                  19                       4  "
      ]
     },
     "execution_count": 4,
     "metadata": {},
     "output_type": "execute_result"
    }
   ],
   "source": [
    "db.head()"
   ]
  },
  {
   "cell_type": "code",
   "execution_count": 5,
   "metadata": {},
   "outputs": [
    {
     "data": {
      "text/html": [
       "<div>\n",
       "<style scoped>\n",
       "    .dataframe tbody tr th:only-of-type {\n",
       "        vertical-align: middle;\n",
       "    }\n",
       "\n",
       "    .dataframe tbody tr th {\n",
       "        vertical-align: top;\n",
       "    }\n",
       "\n",
       "    .dataframe thead th {\n",
       "        text-align: right;\n",
       "    }\n",
       "</style>\n",
       "<table border=\"1\" class=\"dataframe\">\n",
       "  <thead>\n",
       "    <tr style=\"text-align: right;\">\n",
       "      <th></th>\n",
       "      <th>Europe</th>\n",
       "      <th>Africa</th>\n",
       "      <th>Middle East and Asia</th>\n",
       "      <th>The Americas and the Caribbean</th>\n",
       "      <th>Antarctica and Oceania</th>\n",
       "    </tr>\n",
       "    <tr>\n",
       "      <th>GeographyCode</th>\n",
       "      <th></th>\n",
       "      <th></th>\n",
       "      <th></th>\n",
       "      <th></th>\n",
       "      <th></th>\n",
       "    </tr>\n",
       "  </thead>\n",
       "  <tbody>\n",
       "    <tr>\n",
       "      <th>E01033764</th>\n",
       "      <td>2106</td>\n",
       "      <td>32</td>\n",
       "      <td>49</td>\n",
       "      <td>15</td>\n",
       "      <td>0</td>\n",
       "    </tr>\n",
       "    <tr>\n",
       "      <th>E01033765</th>\n",
       "      <td>1277</td>\n",
       "      <td>21</td>\n",
       "      <td>33</td>\n",
       "      <td>17</td>\n",
       "      <td>3</td>\n",
       "    </tr>\n",
       "    <tr>\n",
       "      <th>E01033766</th>\n",
       "      <td>1028</td>\n",
       "      <td>12</td>\n",
       "      <td>20</td>\n",
       "      <td>8</td>\n",
       "      <td>7</td>\n",
       "    </tr>\n",
       "    <tr>\n",
       "      <th>E01033767</th>\n",
       "      <td>1003</td>\n",
       "      <td>29</td>\n",
       "      <td>29</td>\n",
       "      <td>5</td>\n",
       "      <td>1</td>\n",
       "    </tr>\n",
       "    <tr>\n",
       "      <th>E01033768</th>\n",
       "      <td>1016</td>\n",
       "      <td>69</td>\n",
       "      <td>111</td>\n",
       "      <td>21</td>\n",
       "      <td>6</td>\n",
       "    </tr>\n",
       "  </tbody>\n",
       "</table>\n",
       "</div>"
      ],
      "text/plain": [
       "               Europe  Africa  Middle East and Asia  \\\n",
       "GeographyCode                                         \n",
       "E01033764        2106      32                    49   \n",
       "E01033765        1277      21                    33   \n",
       "E01033766        1028      12                    20   \n",
       "E01033767        1003      29                    29   \n",
       "E01033768        1016      69                   111   \n",
       "\n",
       "               The Americas and the Caribbean  Antarctica and Oceania  \n",
       "GeographyCode                                                          \n",
       "E01033764                                  15                       0  \n",
       "E01033765                                  17                       3  \n",
       "E01033766                                   8                       7  \n",
       "E01033767                                   5                       1  \n",
       "E01033768                                  21                       6  "
      ]
     },
     "execution_count": 5,
     "metadata": {},
     "output_type": "execute_result"
    }
   ],
   "source": [
    "db.tail()"
   ]
  },
  {
   "cell_type": "markdown",
   "metadata": {},
   "source": [
    "Or getting an overview of the table:"
   ]
  },
  {
   "cell_type": "code",
   "execution_count": 6,
   "metadata": {},
   "outputs": [
    {
     "name": "stdout",
     "output_type": "stream",
     "text": [
      "<class 'pandas.core.frame.DataFrame'>\n",
      "Index: 298 entries, E01006512 to E01033768\n",
      "Data columns (total 5 columns):\n",
      " #   Column                          Non-Null Count  Dtype\n",
      "---  ------                          --------------  -----\n",
      " 0   Europe                          298 non-null    int64\n",
      " 1   Africa                          298 non-null    int64\n",
      " 2   Middle East and Asia            298 non-null    int64\n",
      " 3   The Americas and the Caribbean  298 non-null    int64\n",
      " 4   Antarctica and Oceania          298 non-null    int64\n",
      "dtypes: int64(5)\n",
      "memory usage: 14.0+ KB\n"
     ]
    }
   ],
   "source": [
    "db.info()"
   ]
  },
  {
   "cell_type": "markdown",
   "metadata": {},
   "source": [
    "### Summarise\n",
    "\n",
    "Or of the *values* of the table:"
   ]
  },
  {
   "cell_type": "code",
   "execution_count": 7,
   "metadata": {},
   "outputs": [
    {
     "data": {
      "text/html": [
       "<div>\n",
       "<style scoped>\n",
       "    .dataframe tbody tr th:only-of-type {\n",
       "        vertical-align: middle;\n",
       "    }\n",
       "\n",
       "    .dataframe tbody tr th {\n",
       "        vertical-align: top;\n",
       "    }\n",
       "\n",
       "    .dataframe thead th {\n",
       "        text-align: right;\n",
       "    }\n",
       "</style>\n",
       "<table border=\"1\" class=\"dataframe\">\n",
       "  <thead>\n",
       "    <tr style=\"text-align: right;\">\n",
       "      <th></th>\n",
       "      <th>Europe</th>\n",
       "      <th>Africa</th>\n",
       "      <th>Middle East and Asia</th>\n",
       "      <th>The Americas and the Caribbean</th>\n",
       "      <th>Antarctica and Oceania</th>\n",
       "    </tr>\n",
       "  </thead>\n",
       "  <tbody>\n",
       "    <tr>\n",
       "      <th>count</th>\n",
       "      <td>298.00000</td>\n",
       "      <td>298.000000</td>\n",
       "      <td>298.000000</td>\n",
       "      <td>298.000000</td>\n",
       "      <td>298.000000</td>\n",
       "    </tr>\n",
       "    <tr>\n",
       "      <th>mean</th>\n",
       "      <td>1462.38255</td>\n",
       "      <td>29.818792</td>\n",
       "      <td>62.909396</td>\n",
       "      <td>8.087248</td>\n",
       "      <td>1.949664</td>\n",
       "    </tr>\n",
       "    <tr>\n",
       "      <th>std</th>\n",
       "      <td>248.67329</td>\n",
       "      <td>51.606065</td>\n",
       "      <td>102.519614</td>\n",
       "      <td>9.397638</td>\n",
       "      <td>2.168216</td>\n",
       "    </tr>\n",
       "    <tr>\n",
       "      <th>min</th>\n",
       "      <td>731.00000</td>\n",
       "      <td>0.000000</td>\n",
       "      <td>1.000000</td>\n",
       "      <td>0.000000</td>\n",
       "      <td>0.000000</td>\n",
       "    </tr>\n",
       "    <tr>\n",
       "      <th>25%</th>\n",
       "      <td>1331.25000</td>\n",
       "      <td>7.000000</td>\n",
       "      <td>16.000000</td>\n",
       "      <td>2.000000</td>\n",
       "      <td>0.000000</td>\n",
       "    </tr>\n",
       "    <tr>\n",
       "      <th>50%</th>\n",
       "      <td>1446.00000</td>\n",
       "      <td>14.000000</td>\n",
       "      <td>33.500000</td>\n",
       "      <td>5.000000</td>\n",
       "      <td>1.000000</td>\n",
       "    </tr>\n",
       "    <tr>\n",
       "      <th>75%</th>\n",
       "      <td>1579.75000</td>\n",
       "      <td>30.000000</td>\n",
       "      <td>62.750000</td>\n",
       "      <td>10.000000</td>\n",
       "      <td>3.000000</td>\n",
       "    </tr>\n",
       "    <tr>\n",
       "      <th>max</th>\n",
       "      <td>2551.00000</td>\n",
       "      <td>484.000000</td>\n",
       "      <td>840.000000</td>\n",
       "      <td>61.000000</td>\n",
       "      <td>11.000000</td>\n",
       "    </tr>\n",
       "  </tbody>\n",
       "</table>\n",
       "</div>"
      ],
      "text/plain": [
       "           Europe      Africa  Middle East and Asia  \\\n",
       "count   298.00000  298.000000            298.000000   \n",
       "mean   1462.38255   29.818792             62.909396   \n",
       "std     248.67329   51.606065            102.519614   \n",
       "min     731.00000    0.000000              1.000000   \n",
       "25%    1331.25000    7.000000             16.000000   \n",
       "50%    1446.00000   14.000000             33.500000   \n",
       "75%    1579.75000   30.000000             62.750000   \n",
       "max    2551.00000  484.000000            840.000000   \n",
       "\n",
       "       The Americas and the Caribbean  Antarctica and Oceania  \n",
       "count                      298.000000              298.000000  \n",
       "mean                         8.087248                1.949664  \n",
       "std                          9.397638                2.168216  \n",
       "min                          0.000000                0.000000  \n",
       "25%                          2.000000                0.000000  \n",
       "50%                          5.000000                1.000000  \n",
       "75%                         10.000000                3.000000  \n",
       "max                         61.000000               11.000000  "
      ]
     },
     "execution_count": 7,
     "metadata": {},
     "output_type": "execute_result"
    }
   ],
   "source": [
    "db.describe()"
   ]
  },
  {
   "cell_type": "markdown",
   "metadata": {},
   "source": [
    "Note how the output is also a `DataFrame` object, so you can do with it the same things you would with the original table (e.g. writing it to a file).\n",
    "\n",
    "In this case, the summary might be better presented if the table is \"transposed\":"
   ]
  },
  {
   "cell_type": "code",
   "execution_count": 8,
   "metadata": {},
   "outputs": [
    {
     "data": {
      "text/html": [
       "<div>\n",
       "<style scoped>\n",
       "    .dataframe tbody tr th:only-of-type {\n",
       "        vertical-align: middle;\n",
       "    }\n",
       "\n",
       "    .dataframe tbody tr th {\n",
       "        vertical-align: top;\n",
       "    }\n",
       "\n",
       "    .dataframe thead th {\n",
       "        text-align: right;\n",
       "    }\n",
       "</style>\n",
       "<table border=\"1\" class=\"dataframe\">\n",
       "  <thead>\n",
       "    <tr style=\"text-align: right;\">\n",
       "      <th></th>\n",
       "      <th>count</th>\n",
       "      <th>mean</th>\n",
       "      <th>std</th>\n",
       "      <th>min</th>\n",
       "      <th>25%</th>\n",
       "      <th>50%</th>\n",
       "      <th>75%</th>\n",
       "      <th>max</th>\n",
       "    </tr>\n",
       "  </thead>\n",
       "  <tbody>\n",
       "    <tr>\n",
       "      <th>Europe</th>\n",
       "      <td>298.0</td>\n",
       "      <td>1462.382550</td>\n",
       "      <td>248.673290</td>\n",
       "      <td>731.0</td>\n",
       "      <td>1331.25</td>\n",
       "      <td>1446.0</td>\n",
       "      <td>1579.75</td>\n",
       "      <td>2551.0</td>\n",
       "    </tr>\n",
       "    <tr>\n",
       "      <th>Africa</th>\n",
       "      <td>298.0</td>\n",
       "      <td>29.818792</td>\n",
       "      <td>51.606065</td>\n",
       "      <td>0.0</td>\n",
       "      <td>7.00</td>\n",
       "      <td>14.0</td>\n",
       "      <td>30.00</td>\n",
       "      <td>484.0</td>\n",
       "    </tr>\n",
       "    <tr>\n",
       "      <th>Middle East and Asia</th>\n",
       "      <td>298.0</td>\n",
       "      <td>62.909396</td>\n",
       "      <td>102.519614</td>\n",
       "      <td>1.0</td>\n",
       "      <td>16.00</td>\n",
       "      <td>33.5</td>\n",
       "      <td>62.75</td>\n",
       "      <td>840.0</td>\n",
       "    </tr>\n",
       "    <tr>\n",
       "      <th>The Americas and the Caribbean</th>\n",
       "      <td>298.0</td>\n",
       "      <td>8.087248</td>\n",
       "      <td>9.397638</td>\n",
       "      <td>0.0</td>\n",
       "      <td>2.00</td>\n",
       "      <td>5.0</td>\n",
       "      <td>10.00</td>\n",
       "      <td>61.0</td>\n",
       "    </tr>\n",
       "    <tr>\n",
       "      <th>Antarctica and Oceania</th>\n",
       "      <td>298.0</td>\n",
       "      <td>1.949664</td>\n",
       "      <td>2.168216</td>\n",
       "      <td>0.0</td>\n",
       "      <td>0.00</td>\n",
       "      <td>1.0</td>\n",
       "      <td>3.00</td>\n",
       "      <td>11.0</td>\n",
       "    </tr>\n",
       "  </tbody>\n",
       "</table>\n",
       "</div>"
      ],
      "text/plain": [
       "                                count         mean         std    min  \\\n",
       "Europe                          298.0  1462.382550  248.673290  731.0   \n",
       "Africa                          298.0    29.818792   51.606065    0.0   \n",
       "Middle East and Asia            298.0    62.909396  102.519614    1.0   \n",
       "The Americas and the Caribbean  298.0     8.087248    9.397638    0.0   \n",
       "Antarctica and Oceania          298.0     1.949664    2.168216    0.0   \n",
       "\n",
       "                                    25%     50%      75%     max  \n",
       "Europe                          1331.25  1446.0  1579.75  2551.0  \n",
       "Africa                             7.00    14.0    30.00   484.0  \n",
       "Middle East and Asia              16.00    33.5    62.75   840.0  \n",
       "The Americas and the Caribbean     2.00     5.0    10.00    61.0  \n",
       "Antarctica and Oceania             0.00     1.0     3.00    11.0  "
      ]
     },
     "execution_count": 8,
     "metadata": {},
     "output_type": "execute_result"
    }
   ],
   "source": [
    "db.describe().T"
   ]
  },
  {
   "cell_type": "markdown",
   "metadata": {},
   "source": [
    "Equally, common descriptive statistics are also available:"
   ]
  },
  {
   "cell_type": "code",
   "execution_count": 9,
   "metadata": {},
   "outputs": [
    {
     "data": {
      "text/plain": [
       "Europe                            731\n",
       "Africa                              0\n",
       "Middle East and Asia                1\n",
       "The Americas and the Caribbean      0\n",
       "Antarctica and Oceania              0\n",
       "dtype: int64"
      ]
     },
     "execution_count": 9,
     "metadata": {},
     "output_type": "execute_result"
    }
   ],
   "source": [
    "# Obtain minimum values for each table\n",
    "db.min()"
   ]
  },
  {
   "cell_type": "code",
   "execution_count": 10,
   "metadata": {},
   "outputs": [
    {
     "data": {
      "text/plain": [
       "731"
      ]
     },
     "execution_count": 10,
     "metadata": {},
     "output_type": "execute_result"
    }
   ],
   "source": [
    "# Obtain minimum value for the column `Europe`\n",
    "db['Europe'].min()"
   ]
  },
  {
   "cell_type": "markdown",
   "metadata": {},
   "source": [
    "Note here how we have restricted the calculation of the maximum value to one column only.\n",
    "\n",
    "Similarly, we can restrict the calculations to a single row:"
   ]
  },
  {
   "cell_type": "code",
   "execution_count": 11,
   "metadata": {},
   "outputs": [
    {
     "data": {
      "text/plain": [
       "457.8842648530303"
      ]
     },
     "execution_count": 11,
     "metadata": {},
     "output_type": "execute_result"
    }
   ],
   "source": [
    "# Obtain standard deviation for the row `E01006512`, \n",
    "# which represents a particular LSOA\n",
    "db.loc['E01006512', :].std()"
   ]
  },
  {
   "cell_type": "markdown",
   "metadata": {},
   "source": [
    "(lab_B:new_columns)=\n",
    "### Create new columns\n",
    "\n",
    "We can generate new variables by applying operations on existing ones. For example, we can calculate the total population by area. Here is a couple of ways to do it:"
   ]
  },
  {
   "cell_type": "code",
   "execution_count": 12,
   "metadata": {},
   "outputs": [
    {
     "data": {
      "text/plain": [
       "GeographyCode\n",
       "E01006512    1880\n",
       "E01006513    2941\n",
       "E01006514    2108\n",
       "E01006515    1208\n",
       "E01006518    1696\n",
       "dtype: int64"
      ]
     },
     "execution_count": 12,
     "metadata": {},
     "output_type": "execute_result"
    }
   ],
   "source": [
    "# Longer, hardcoded\n",
    "total = db['Europe'] + db['Africa'] + db['Middle East and Asia'] + \\\n",
    "        db['The Americas and the Caribbean'] + db['Antarctica and Oceania']\n",
    "# Print the top of the variable\n",
    "total.head()"
   ]
  },
  {
   "cell_type": "code",
   "execution_count": 13,
   "metadata": {},
   "outputs": [
    {
     "data": {
      "text/plain": [
       "GeographyCode\n",
       "E01006512    1880\n",
       "E01006513    2941\n",
       "E01006514    2108\n",
       "E01006515    1208\n",
       "E01006518    1696\n",
       "dtype: int64"
      ]
     },
     "execution_count": 13,
     "metadata": {},
     "output_type": "execute_result"
    }
   ],
   "source": [
    "# One shot\n",
    "total = db.sum(axis=1)\n",
    "# Print the top of the variable\n",
    "total.head()"
   ]
  },
  {
   "cell_type": "markdown",
   "metadata": {},
   "source": [
    "Note how we are using the command `sum`, just like we did with `max` or `min` before but, in this case, we are not applying it over columns (e.g. the max of each column), but over rows, so we get the total sum of populations by areas.\n",
    "\n",
    "Once we have created the variable, we can make it part of the table:"
   ]
  },
  {
   "cell_type": "code",
   "execution_count": 14,
   "metadata": {},
   "outputs": [
    {
     "data": {
      "text/html": [
       "<div>\n",
       "<style scoped>\n",
       "    .dataframe tbody tr th:only-of-type {\n",
       "        vertical-align: middle;\n",
       "    }\n",
       "\n",
       "    .dataframe tbody tr th {\n",
       "        vertical-align: top;\n",
       "    }\n",
       "\n",
       "    .dataframe thead th {\n",
       "        text-align: right;\n",
       "    }\n",
       "</style>\n",
       "<table border=\"1\" class=\"dataframe\">\n",
       "  <thead>\n",
       "    <tr style=\"text-align: right;\">\n",
       "      <th></th>\n",
       "      <th>Europe</th>\n",
       "      <th>Africa</th>\n",
       "      <th>Middle East and Asia</th>\n",
       "      <th>The Americas and the Caribbean</th>\n",
       "      <th>Antarctica and Oceania</th>\n",
       "      <th>Total</th>\n",
       "    </tr>\n",
       "    <tr>\n",
       "      <th>GeographyCode</th>\n",
       "      <th></th>\n",
       "      <th></th>\n",
       "      <th></th>\n",
       "      <th></th>\n",
       "      <th></th>\n",
       "      <th></th>\n",
       "    </tr>\n",
       "  </thead>\n",
       "  <tbody>\n",
       "    <tr>\n",
       "      <th>E01006512</th>\n",
       "      <td>910</td>\n",
       "      <td>106</td>\n",
       "      <td>840</td>\n",
       "      <td>24</td>\n",
       "      <td>0</td>\n",
       "      <td>1880</td>\n",
       "    </tr>\n",
       "    <tr>\n",
       "      <th>E01006513</th>\n",
       "      <td>2225</td>\n",
       "      <td>61</td>\n",
       "      <td>595</td>\n",
       "      <td>53</td>\n",
       "      <td>7</td>\n",
       "      <td>2941</td>\n",
       "    </tr>\n",
       "    <tr>\n",
       "      <th>E01006514</th>\n",
       "      <td>1786</td>\n",
       "      <td>63</td>\n",
       "      <td>193</td>\n",
       "      <td>61</td>\n",
       "      <td>5</td>\n",
       "      <td>2108</td>\n",
       "    </tr>\n",
       "    <tr>\n",
       "      <th>E01006515</th>\n",
       "      <td>974</td>\n",
       "      <td>29</td>\n",
       "      <td>185</td>\n",
       "      <td>18</td>\n",
       "      <td>2</td>\n",
       "      <td>1208</td>\n",
       "    </tr>\n",
       "    <tr>\n",
       "      <th>E01006518</th>\n",
       "      <td>1531</td>\n",
       "      <td>69</td>\n",
       "      <td>73</td>\n",
       "      <td>19</td>\n",
       "      <td>4</td>\n",
       "      <td>1696</td>\n",
       "    </tr>\n",
       "  </tbody>\n",
       "</table>\n",
       "</div>"
      ],
      "text/plain": [
       "               Europe  Africa  Middle East and Asia  \\\n",
       "GeographyCode                                         \n",
       "E01006512         910     106                   840   \n",
       "E01006513        2225      61                   595   \n",
       "E01006514        1786      63                   193   \n",
       "E01006515         974      29                   185   \n",
       "E01006518        1531      69                    73   \n",
       "\n",
       "               The Americas and the Caribbean  Antarctica and Oceania  Total  \n",
       "GeographyCode                                                                 \n",
       "E01006512                                  24                       0   1880  \n",
       "E01006513                                  53                       7   2941  \n",
       "E01006514                                  61                       5   2108  \n",
       "E01006515                                  18                       2   1208  \n",
       "E01006518                                  19                       4   1696  "
      ]
     },
     "execution_count": 14,
     "metadata": {},
     "output_type": "execute_result"
    }
   ],
   "source": [
    "db['Total'] = total\n",
    "db.head()"
   ]
  },
  {
   "cell_type": "markdown",
   "metadata": {},
   "source": [
    "A different spin on this is assigning new values: we can generate new variables with scalars, and modify those:"
   ]
  },
  {
   "cell_type": "code",
   "execution_count": 15,
   "metadata": {},
   "outputs": [
    {
     "data": {
      "text/html": [
       "<div>\n",
       "<style scoped>\n",
       "    .dataframe tbody tr th:only-of-type {\n",
       "        vertical-align: middle;\n",
       "    }\n",
       "\n",
       "    .dataframe tbody tr th {\n",
       "        vertical-align: top;\n",
       "    }\n",
       "\n",
       "    .dataframe thead th {\n",
       "        text-align: right;\n",
       "    }\n",
       "</style>\n",
       "<table border=\"1\" class=\"dataframe\">\n",
       "  <thead>\n",
       "    <tr style=\"text-align: right;\">\n",
       "      <th></th>\n",
       "      <th>Europe</th>\n",
       "      <th>Africa</th>\n",
       "      <th>Middle East and Asia</th>\n",
       "      <th>The Americas and the Caribbean</th>\n",
       "      <th>Antarctica and Oceania</th>\n",
       "      <th>Total</th>\n",
       "      <th>ones</th>\n",
       "    </tr>\n",
       "    <tr>\n",
       "      <th>GeographyCode</th>\n",
       "      <th></th>\n",
       "      <th></th>\n",
       "      <th></th>\n",
       "      <th></th>\n",
       "      <th></th>\n",
       "      <th></th>\n",
       "      <th></th>\n",
       "    </tr>\n",
       "  </thead>\n",
       "  <tbody>\n",
       "    <tr>\n",
       "      <th>E01006512</th>\n",
       "      <td>910</td>\n",
       "      <td>106</td>\n",
       "      <td>840</td>\n",
       "      <td>24</td>\n",
       "      <td>0</td>\n",
       "      <td>1880</td>\n",
       "      <td>1</td>\n",
       "    </tr>\n",
       "    <tr>\n",
       "      <th>E01006513</th>\n",
       "      <td>2225</td>\n",
       "      <td>61</td>\n",
       "      <td>595</td>\n",
       "      <td>53</td>\n",
       "      <td>7</td>\n",
       "      <td>2941</td>\n",
       "      <td>1</td>\n",
       "    </tr>\n",
       "    <tr>\n",
       "      <th>E01006514</th>\n",
       "      <td>1786</td>\n",
       "      <td>63</td>\n",
       "      <td>193</td>\n",
       "      <td>61</td>\n",
       "      <td>5</td>\n",
       "      <td>2108</td>\n",
       "      <td>1</td>\n",
       "    </tr>\n",
       "    <tr>\n",
       "      <th>E01006515</th>\n",
       "      <td>974</td>\n",
       "      <td>29</td>\n",
       "      <td>185</td>\n",
       "      <td>18</td>\n",
       "      <td>2</td>\n",
       "      <td>1208</td>\n",
       "      <td>1</td>\n",
       "    </tr>\n",
       "    <tr>\n",
       "      <th>E01006518</th>\n",
       "      <td>1531</td>\n",
       "      <td>69</td>\n",
       "      <td>73</td>\n",
       "      <td>19</td>\n",
       "      <td>4</td>\n",
       "      <td>1696</td>\n",
       "      <td>1</td>\n",
       "    </tr>\n",
       "  </tbody>\n",
       "</table>\n",
       "</div>"
      ],
      "text/plain": [
       "               Europe  Africa  Middle East and Asia  \\\n",
       "GeographyCode                                         \n",
       "E01006512         910     106                   840   \n",
       "E01006513        2225      61                   595   \n",
       "E01006514        1786      63                   193   \n",
       "E01006515         974      29                   185   \n",
       "E01006518        1531      69                    73   \n",
       "\n",
       "               The Americas and the Caribbean  Antarctica and Oceania  Total  \\\n",
       "GeographyCode                                                                  \n",
       "E01006512                                  24                       0   1880   \n",
       "E01006513                                  53                       7   2941   \n",
       "E01006514                                  61                       5   2108   \n",
       "E01006515                                  18                       2   1208   \n",
       "E01006518                                  19                       4   1696   \n",
       "\n",
       "               ones  \n",
       "GeographyCode        \n",
       "E01006512         1  \n",
       "E01006513         1  \n",
       "E01006514         1  \n",
       "E01006515         1  \n",
       "E01006518         1  "
      ]
     },
     "execution_count": 15,
     "metadata": {},
     "output_type": "execute_result"
    }
   ],
   "source": [
    "# New variable with all ones\n",
    "db['ones'] = 1\n",
    "db.head()"
   ]
  },
  {
   "cell_type": "markdown",
   "metadata": {},
   "source": [
    "And we can modify specific values too:"
   ]
  },
  {
   "cell_type": "code",
   "execution_count": 16,
   "metadata": {},
   "outputs": [
    {
     "data": {
      "text/html": [
       "<div>\n",
       "<style scoped>\n",
       "    .dataframe tbody tr th:only-of-type {\n",
       "        vertical-align: middle;\n",
       "    }\n",
       "\n",
       "    .dataframe tbody tr th {\n",
       "        vertical-align: top;\n",
       "    }\n",
       "\n",
       "    .dataframe thead th {\n",
       "        text-align: right;\n",
       "    }\n",
       "</style>\n",
       "<table border=\"1\" class=\"dataframe\">\n",
       "  <thead>\n",
       "    <tr style=\"text-align: right;\">\n",
       "      <th></th>\n",
       "      <th>Europe</th>\n",
       "      <th>Africa</th>\n",
       "      <th>Middle East and Asia</th>\n",
       "      <th>The Americas and the Caribbean</th>\n",
       "      <th>Antarctica and Oceania</th>\n",
       "      <th>Total</th>\n",
       "      <th>ones</th>\n",
       "    </tr>\n",
       "    <tr>\n",
       "      <th>GeographyCode</th>\n",
       "      <th></th>\n",
       "      <th></th>\n",
       "      <th></th>\n",
       "      <th></th>\n",
       "      <th></th>\n",
       "      <th></th>\n",
       "      <th></th>\n",
       "    </tr>\n",
       "  </thead>\n",
       "  <tbody>\n",
       "    <tr>\n",
       "      <th>E01006512</th>\n",
       "      <td>910</td>\n",
       "      <td>106</td>\n",
       "      <td>840</td>\n",
       "      <td>24</td>\n",
       "      <td>0</td>\n",
       "      <td>1880</td>\n",
       "      <td>3</td>\n",
       "    </tr>\n",
       "    <tr>\n",
       "      <th>E01006513</th>\n",
       "      <td>2225</td>\n",
       "      <td>61</td>\n",
       "      <td>595</td>\n",
       "      <td>53</td>\n",
       "      <td>7</td>\n",
       "      <td>2941</td>\n",
       "      <td>1</td>\n",
       "    </tr>\n",
       "    <tr>\n",
       "      <th>E01006514</th>\n",
       "      <td>1786</td>\n",
       "      <td>63</td>\n",
       "      <td>193</td>\n",
       "      <td>61</td>\n",
       "      <td>5</td>\n",
       "      <td>2108</td>\n",
       "      <td>1</td>\n",
       "    </tr>\n",
       "    <tr>\n",
       "      <th>E01006515</th>\n",
       "      <td>974</td>\n",
       "      <td>29</td>\n",
       "      <td>185</td>\n",
       "      <td>18</td>\n",
       "      <td>2</td>\n",
       "      <td>1208</td>\n",
       "      <td>1</td>\n",
       "    </tr>\n",
       "    <tr>\n",
       "      <th>E01006518</th>\n",
       "      <td>1531</td>\n",
       "      <td>69</td>\n",
       "      <td>73</td>\n",
       "      <td>19</td>\n",
       "      <td>4</td>\n",
       "      <td>1696</td>\n",
       "      <td>1</td>\n",
       "    </tr>\n",
       "  </tbody>\n",
       "</table>\n",
       "</div>"
      ],
      "text/plain": [
       "               Europe  Africa  Middle East and Asia  \\\n",
       "GeographyCode                                         \n",
       "E01006512         910     106                   840   \n",
       "E01006513        2225      61                   595   \n",
       "E01006514        1786      63                   193   \n",
       "E01006515         974      29                   185   \n",
       "E01006518        1531      69                    73   \n",
       "\n",
       "               The Americas and the Caribbean  Antarctica and Oceania  Total  \\\n",
       "GeographyCode                                                                  \n",
       "E01006512                                  24                       0   1880   \n",
       "E01006513                                  53                       7   2941   \n",
       "E01006514                                  61                       5   2108   \n",
       "E01006515                                  18                       2   1208   \n",
       "E01006518                                  19                       4   1696   \n",
       "\n",
       "               ones  \n",
       "GeographyCode        \n",
       "E01006512         3  \n",
       "E01006513         1  \n",
       "E01006514         1  \n",
       "E01006515         1  \n",
       "E01006518         1  "
      ]
     },
     "execution_count": 16,
     "metadata": {},
     "output_type": "execute_result"
    }
   ],
   "source": [
    "db.loc['E01006512', 'ones'] = 3\n",
    "db.head()"
   ]
  },
  {
   "cell_type": "markdown",
   "metadata": {},
   "source": [
    "### Delete columns\n",
    "\n",
    "Permanently deleting variables is also within reach of one command:"
   ]
  },
  {
   "cell_type": "code",
   "execution_count": 17,
   "metadata": {},
   "outputs": [
    {
     "data": {
      "text/html": [
       "<div>\n",
       "<style scoped>\n",
       "    .dataframe tbody tr th:only-of-type {\n",
       "        vertical-align: middle;\n",
       "    }\n",
       "\n",
       "    .dataframe tbody tr th {\n",
       "        vertical-align: top;\n",
       "    }\n",
       "\n",
       "    .dataframe thead th {\n",
       "        text-align: right;\n",
       "    }\n",
       "</style>\n",
       "<table border=\"1\" class=\"dataframe\">\n",
       "  <thead>\n",
       "    <tr style=\"text-align: right;\">\n",
       "      <th></th>\n",
       "      <th>Europe</th>\n",
       "      <th>Africa</th>\n",
       "      <th>Middle East and Asia</th>\n",
       "      <th>The Americas and the Caribbean</th>\n",
       "      <th>Antarctica and Oceania</th>\n",
       "      <th>Total</th>\n",
       "    </tr>\n",
       "    <tr>\n",
       "      <th>GeographyCode</th>\n",
       "      <th></th>\n",
       "      <th></th>\n",
       "      <th></th>\n",
       "      <th></th>\n",
       "      <th></th>\n",
       "      <th></th>\n",
       "    </tr>\n",
       "  </thead>\n",
       "  <tbody>\n",
       "    <tr>\n",
       "      <th>E01006512</th>\n",
       "      <td>910</td>\n",
       "      <td>106</td>\n",
       "      <td>840</td>\n",
       "      <td>24</td>\n",
       "      <td>0</td>\n",
       "      <td>1880</td>\n",
       "    </tr>\n",
       "    <tr>\n",
       "      <th>E01006513</th>\n",
       "      <td>2225</td>\n",
       "      <td>61</td>\n",
       "      <td>595</td>\n",
       "      <td>53</td>\n",
       "      <td>7</td>\n",
       "      <td>2941</td>\n",
       "    </tr>\n",
       "    <tr>\n",
       "      <th>E01006514</th>\n",
       "      <td>1786</td>\n",
       "      <td>63</td>\n",
       "      <td>193</td>\n",
       "      <td>61</td>\n",
       "      <td>5</td>\n",
       "      <td>2108</td>\n",
       "    </tr>\n",
       "    <tr>\n",
       "      <th>E01006515</th>\n",
       "      <td>974</td>\n",
       "      <td>29</td>\n",
       "      <td>185</td>\n",
       "      <td>18</td>\n",
       "      <td>2</td>\n",
       "      <td>1208</td>\n",
       "    </tr>\n",
       "    <tr>\n",
       "      <th>E01006518</th>\n",
       "      <td>1531</td>\n",
       "      <td>69</td>\n",
       "      <td>73</td>\n",
       "      <td>19</td>\n",
       "      <td>4</td>\n",
       "      <td>1696</td>\n",
       "    </tr>\n",
       "  </tbody>\n",
       "</table>\n",
       "</div>"
      ],
      "text/plain": [
       "               Europe  Africa  Middle East and Asia  \\\n",
       "GeographyCode                                         \n",
       "E01006512         910     106                   840   \n",
       "E01006513        2225      61                   595   \n",
       "E01006514        1786      63                   193   \n",
       "E01006515         974      29                   185   \n",
       "E01006518        1531      69                    73   \n",
       "\n",
       "               The Americas and the Caribbean  Antarctica and Oceania  Total  \n",
       "GeographyCode                                                                 \n",
       "E01006512                                  24                       0   1880  \n",
       "E01006513                                  53                       7   2941  \n",
       "E01006514                                  61                       5   2108  \n",
       "E01006515                                  18                       2   1208  \n",
       "E01006518                                  19                       4   1696  "
      ]
     },
     "execution_count": 17,
     "metadata": {},
     "output_type": "execute_result"
    }
   ],
   "source": [
    "del db['ones']\n",
    "db.head()"
   ]
  },
  {
   "cell_type": "markdown",
   "metadata": {},
   "source": [
    "(lab_B:index_queries)=\n",
    "### Index-based queries\n",
    "\n",
    "Here we explore how we can subset parts of a `DataFrame` if we know exactly which bits we want. For example, if we want to extract the total and European population of the first four areas in the table, we use `loc` with lists:"
   ]
  },
  {
   "cell_type": "code",
   "execution_count": 18,
   "metadata": {},
   "outputs": [
    {
     "data": {
      "text/html": [
       "<div>\n",
       "<style scoped>\n",
       "    .dataframe tbody tr th:only-of-type {\n",
       "        vertical-align: middle;\n",
       "    }\n",
       "\n",
       "    .dataframe tbody tr th {\n",
       "        vertical-align: top;\n",
       "    }\n",
       "\n",
       "    .dataframe thead th {\n",
       "        text-align: right;\n",
       "    }\n",
       "</style>\n",
       "<table border=\"1\" class=\"dataframe\">\n",
       "  <thead>\n",
       "    <tr style=\"text-align: right;\">\n",
       "      <th></th>\n",
       "      <th>Total</th>\n",
       "      <th>Europe</th>\n",
       "    </tr>\n",
       "    <tr>\n",
       "      <th>GeographyCode</th>\n",
       "      <th></th>\n",
       "      <th></th>\n",
       "    </tr>\n",
       "  </thead>\n",
       "  <tbody>\n",
       "    <tr>\n",
       "      <th>E01006512</th>\n",
       "      <td>1880</td>\n",
       "      <td>910</td>\n",
       "    </tr>\n",
       "    <tr>\n",
       "      <th>E01006513</th>\n",
       "      <td>2941</td>\n",
       "      <td>2225</td>\n",
       "    </tr>\n",
       "    <tr>\n",
       "      <th>E01006514</th>\n",
       "      <td>2108</td>\n",
       "      <td>1786</td>\n",
       "    </tr>\n",
       "    <tr>\n",
       "      <th>E01006515</th>\n",
       "      <td>1208</td>\n",
       "      <td>974</td>\n",
       "    </tr>\n",
       "  </tbody>\n",
       "</table>\n",
       "</div>"
      ],
      "text/plain": [
       "               Total  Europe\n",
       "GeographyCode               \n",
       "E01006512       1880     910\n",
       "E01006513       2941    2225\n",
       "E01006514       2108    1786\n",
       "E01006515       1208     974"
      ]
     },
     "execution_count": 18,
     "metadata": {},
     "output_type": "execute_result"
    }
   ],
   "source": [
    "eu_tot_first4 = db.loc[['E01006512', 'E01006513', 'E01006514', 'E01006515'], \\\n",
    "                      ['Total', 'Europe']]\n",
    "eu_tot_first4"
   ]
  },
  {
   "cell_type": "markdown",
   "metadata": {},
   "source": [
    "Note that we use squared brackets (`[]`) to delineate the index of the items we want to subset. In Python, this sequence of items is called a list. Hence we can see how we can create a list with the names (index IDs) along each of the two dimensions of a `DataFrame` (rows and columns), and `loc` will return a subset of the original table *only* with the elements queried for.\n",
    "\n",
    "An alternative to list-based queries is what is called \"range-based\" queries. These work on the indices of the table but, instead of requiring the ID of each item we want to retrieve, the operate by requiring only two IDs: the first and last element in a *range* of items. Range queries are expressed with a colon (`:`). For example:"
   ]
  },
  {
   "cell_type": "code",
   "execution_count": 19,
   "metadata": {},
   "outputs": [
    {
     "data": {
      "text/html": [
       "<div>\n",
       "<style scoped>\n",
       "    .dataframe tbody tr th:only-of-type {\n",
       "        vertical-align: middle;\n",
       "    }\n",
       "\n",
       "    .dataframe tbody tr th {\n",
       "        vertical-align: top;\n",
       "    }\n",
       "\n",
       "    .dataframe thead th {\n",
       "        text-align: right;\n",
       "    }\n",
       "</style>\n",
       "<table border=\"1\" class=\"dataframe\">\n",
       "  <thead>\n",
       "    <tr style=\"text-align: right;\">\n",
       "      <th></th>\n",
       "      <th>Europe</th>\n",
       "      <th>Africa</th>\n",
       "      <th>Middle East and Asia</th>\n",
       "      <th>The Americas and the Caribbean</th>\n",
       "      <th>Antarctica and Oceania</th>\n",
       "    </tr>\n",
       "    <tr>\n",
       "      <th>GeographyCode</th>\n",
       "      <th></th>\n",
       "      <th></th>\n",
       "      <th></th>\n",
       "      <th></th>\n",
       "      <th></th>\n",
       "    </tr>\n",
       "  </thead>\n",
       "  <tbody>\n",
       "    <tr>\n",
       "      <th>E01006514</th>\n",
       "      <td>1786</td>\n",
       "      <td>63</td>\n",
       "      <td>193</td>\n",
       "      <td>61</td>\n",
       "      <td>5</td>\n",
       "    </tr>\n",
       "    <tr>\n",
       "      <th>E01006515</th>\n",
       "      <td>974</td>\n",
       "      <td>29</td>\n",
       "      <td>185</td>\n",
       "      <td>18</td>\n",
       "      <td>2</td>\n",
       "    </tr>\n",
       "    <tr>\n",
       "      <th>E01006518</th>\n",
       "      <td>1531</td>\n",
       "      <td>69</td>\n",
       "      <td>73</td>\n",
       "      <td>19</td>\n",
       "      <td>4</td>\n",
       "    </tr>\n",
       "  </tbody>\n",
       "</table>\n",
       "</div>"
      ],
      "text/plain": [
       "               Europe  Africa  Middle East and Asia  \\\n",
       "GeographyCode                                         \n",
       "E01006514        1786      63                   193   \n",
       "E01006515         974      29                   185   \n",
       "E01006518        1531      69                    73   \n",
       "\n",
       "               The Americas and the Caribbean  Antarctica and Oceania  \n",
       "GeographyCode                                                          \n",
       "E01006514                                  61                       5  \n",
       "E01006515                                  18                       2  \n",
       "E01006518                                  19                       4  "
      ]
     },
     "execution_count": 19,
     "metadata": {},
     "output_type": "execute_result"
    }
   ],
   "source": [
    "range_qry = db.loc[\"E01006514\":\"E01006518\", \"Europe\":\"Antarctica and Oceania\"]\n",
    "range_qry"
   ]
  },
  {
   "cell_type": "markdown",
   "metadata": {},
   "source": [
    "We see how the range query picks up *all* the elements in between the two IDs specificed. Note that, for this to work, the first ID in the range needs to be placed *before* the second one in the table's index.\n",
    "\n",
    "Once we know about list and range based queries, we can combine them both! For example, we can specify a range of rows and a list of columns:"
   ]
  },
  {
   "cell_type": "code",
   "execution_count": 20,
   "metadata": {},
   "outputs": [
    {
     "data": {
      "text/html": [
       "<div>\n",
       "<style scoped>\n",
       "    .dataframe tbody tr th:only-of-type {\n",
       "        vertical-align: middle;\n",
       "    }\n",
       "\n",
       "    .dataframe tbody tr th {\n",
       "        vertical-align: top;\n",
       "    }\n",
       "\n",
       "    .dataframe thead th {\n",
       "        text-align: right;\n",
       "    }\n",
       "</style>\n",
       "<table border=\"1\" class=\"dataframe\">\n",
       "  <thead>\n",
       "    <tr style=\"text-align: right;\">\n",
       "      <th></th>\n",
       "      <th>Europe</th>\n",
       "      <th>Total</th>\n",
       "    </tr>\n",
       "    <tr>\n",
       "      <th>GeographyCode</th>\n",
       "      <th></th>\n",
       "      <th></th>\n",
       "    </tr>\n",
       "  </thead>\n",
       "  <tbody>\n",
       "    <tr>\n",
       "      <th>E01006514</th>\n",
       "      <td>1786</td>\n",
       "      <td>2108</td>\n",
       "    </tr>\n",
       "    <tr>\n",
       "      <th>E01006515</th>\n",
       "      <td>974</td>\n",
       "      <td>1208</td>\n",
       "    </tr>\n",
       "    <tr>\n",
       "      <th>E01006518</th>\n",
       "      <td>1531</td>\n",
       "      <td>1696</td>\n",
       "    </tr>\n",
       "  </tbody>\n",
       "</table>\n",
       "</div>"
      ],
      "text/plain": [
       "               Europe  Total\n",
       "GeographyCode               \n",
       "E01006514        1786   2108\n",
       "E01006515         974   1208\n",
       "E01006518        1531   1696"
      ]
     },
     "execution_count": 20,
     "metadata": {},
     "output_type": "execute_result"
    }
   ],
   "source": [
    "range_list_qry = db.loc[\"E01006514\":\"E01006518\", [\"Europe\", \"Total\"]]\n",
    "range_list_qry"
   ]
  },
  {
   "cell_type": "markdown",
   "metadata": {},
   "source": [
    "(lab_B:condition_queries)=\n",
    "### Condition-based queries \n",
    "\n",
    "However, sometimes, we do not know exactly which observations we want, but we do know what conditions they need to satisfy (e.g. areas with more than 2,000 inhabitants). For these cases, `DataFrames` support selection based on conditions. Let us see a few examples. Suppose we want to select...\n",
    "\n",
    "*... areas with more than 2,500 people in Total*:"
   ]
  },
  {
   "cell_type": "code",
   "execution_count": 21,
   "metadata": {},
   "outputs": [
    {
     "data": {
      "text/html": [
       "<div>\n",
       "<style scoped>\n",
       "    .dataframe tbody tr th:only-of-type {\n",
       "        vertical-align: middle;\n",
       "    }\n",
       "\n",
       "    .dataframe tbody tr th {\n",
       "        vertical-align: top;\n",
       "    }\n",
       "\n",
       "    .dataframe thead th {\n",
       "        text-align: right;\n",
       "    }\n",
       "</style>\n",
       "<table border=\"1\" class=\"dataframe\">\n",
       "  <thead>\n",
       "    <tr style=\"text-align: right;\">\n",
       "      <th></th>\n",
       "      <th>Europe</th>\n",
       "      <th>Africa</th>\n",
       "      <th>Middle East and Asia</th>\n",
       "      <th>The Americas and the Caribbean</th>\n",
       "      <th>Antarctica and Oceania</th>\n",
       "      <th>Total</th>\n",
       "    </tr>\n",
       "    <tr>\n",
       "      <th>GeographyCode</th>\n",
       "      <th></th>\n",
       "      <th></th>\n",
       "      <th></th>\n",
       "      <th></th>\n",
       "      <th></th>\n",
       "      <th></th>\n",
       "    </tr>\n",
       "  </thead>\n",
       "  <tbody>\n",
       "    <tr>\n",
       "      <th>E01006513</th>\n",
       "      <td>2225</td>\n",
       "      <td>61</td>\n",
       "      <td>595</td>\n",
       "      <td>53</td>\n",
       "      <td>7</td>\n",
       "      <td>2941</td>\n",
       "    </tr>\n",
       "    <tr>\n",
       "      <th>E01006747</th>\n",
       "      <td>2551</td>\n",
       "      <td>163</td>\n",
       "      <td>812</td>\n",
       "      <td>24</td>\n",
       "      <td>2</td>\n",
       "      <td>3552</td>\n",
       "    </tr>\n",
       "    <tr>\n",
       "      <th>E01006751</th>\n",
       "      <td>1843</td>\n",
       "      <td>139</td>\n",
       "      <td>568</td>\n",
       "      <td>21</td>\n",
       "      <td>1</td>\n",
       "      <td>2572</td>\n",
       "    </tr>\n",
       "  </tbody>\n",
       "</table>\n",
       "</div>"
      ],
      "text/plain": [
       "               Europe  Africa  Middle East and Asia  \\\n",
       "GeographyCode                                         \n",
       "E01006513        2225      61                   595   \n",
       "E01006747        2551     163                   812   \n",
       "E01006751        1843     139                   568   \n",
       "\n",
       "               The Americas and the Caribbean  Antarctica and Oceania  Total  \n",
       "GeographyCode                                                                 \n",
       "E01006513                                  53                       7   2941  \n",
       "E01006747                                  24                       2   3552  \n",
       "E01006751                                  21                       1   2572  "
      ]
     },
     "execution_count": 21,
     "metadata": {},
     "output_type": "execute_result"
    }
   ],
   "source": [
    "m5k = db.loc[db['Total'] > 2500, :]\n",
    "m5k"
   ]
  },
  {
   "cell_type": "markdown",
   "metadata": {},
   "source": [
    "*... areas where there are no more than 750 Europeans*:"
   ]
  },
  {
   "cell_type": "code",
   "execution_count": 22,
   "metadata": {},
   "outputs": [
    {
     "data": {
      "text/html": [
       "<div>\n",
       "<style scoped>\n",
       "    .dataframe tbody tr th:only-of-type {\n",
       "        vertical-align: middle;\n",
       "    }\n",
       "\n",
       "    .dataframe tbody tr th {\n",
       "        vertical-align: top;\n",
       "    }\n",
       "\n",
       "    .dataframe thead th {\n",
       "        text-align: right;\n",
       "    }\n",
       "</style>\n",
       "<table border=\"1\" class=\"dataframe\">\n",
       "  <thead>\n",
       "    <tr style=\"text-align: right;\">\n",
       "      <th></th>\n",
       "      <th>Europe</th>\n",
       "      <th>Africa</th>\n",
       "      <th>Middle East and Asia</th>\n",
       "      <th>The Americas and the Caribbean</th>\n",
       "      <th>Antarctica and Oceania</th>\n",
       "      <th>Total</th>\n",
       "    </tr>\n",
       "    <tr>\n",
       "      <th>GeographyCode</th>\n",
       "      <th></th>\n",
       "      <th></th>\n",
       "      <th></th>\n",
       "      <th></th>\n",
       "      <th></th>\n",
       "      <th></th>\n",
       "    </tr>\n",
       "  </thead>\n",
       "  <tbody>\n",
       "    <tr>\n",
       "      <th>E01033757</th>\n",
       "      <td>731</td>\n",
       "      <td>39</td>\n",
       "      <td>223</td>\n",
       "      <td>29</td>\n",
       "      <td>3</td>\n",
       "      <td>1025</td>\n",
       "    </tr>\n",
       "  </tbody>\n",
       "</table>\n",
       "</div>"
      ],
      "text/plain": [
       "               Europe  Africa  Middle East and Asia  \\\n",
       "GeographyCode                                         \n",
       "E01033757         731      39                   223   \n",
       "\n",
       "               The Americas and the Caribbean  Antarctica and Oceania  Total  \n",
       "GeographyCode                                                                 \n",
       "E01033757                                  29                       3   1025  "
      ]
     },
     "execution_count": 22,
     "metadata": {},
     "output_type": "execute_result"
    }
   ],
   "source": [
    "nm5ke = db.loc[db['Europe'] < 750, :]\n",
    "nm5ke"
   ]
  },
  {
   "cell_type": "markdown",
   "metadata": {},
   "source": [
    "*... areas with exactly ten person from Antarctica and Oceania*:"
   ]
  },
  {
   "cell_type": "code",
   "execution_count": 23,
   "metadata": {},
   "outputs": [
    {
     "data": {
      "text/html": [
       "<div>\n",
       "<style scoped>\n",
       "    .dataframe tbody tr th:only-of-type {\n",
       "        vertical-align: middle;\n",
       "    }\n",
       "\n",
       "    .dataframe tbody tr th {\n",
       "        vertical-align: top;\n",
       "    }\n",
       "\n",
       "    .dataframe thead th {\n",
       "        text-align: right;\n",
       "    }\n",
       "</style>\n",
       "<table border=\"1\" class=\"dataframe\">\n",
       "  <thead>\n",
       "    <tr style=\"text-align: right;\">\n",
       "      <th></th>\n",
       "      <th>Europe</th>\n",
       "      <th>Africa</th>\n",
       "      <th>Middle East and Asia</th>\n",
       "      <th>The Americas and the Caribbean</th>\n",
       "      <th>Antarctica and Oceania</th>\n",
       "      <th>Total</th>\n",
       "    </tr>\n",
       "    <tr>\n",
       "      <th>GeographyCode</th>\n",
       "      <th></th>\n",
       "      <th></th>\n",
       "      <th></th>\n",
       "      <th></th>\n",
       "      <th></th>\n",
       "      <th></th>\n",
       "    </tr>\n",
       "  </thead>\n",
       "  <tbody>\n",
       "    <tr>\n",
       "      <th>E01006679</th>\n",
       "      <td>1353</td>\n",
       "      <td>484</td>\n",
       "      <td>354</td>\n",
       "      <td>31</td>\n",
       "      <td>10</td>\n",
       "      <td>2232</td>\n",
       "    </tr>\n",
       "  </tbody>\n",
       "</table>\n",
       "</div>"
      ],
      "text/plain": [
       "               Europe  Africa  Middle East and Asia  \\\n",
       "GeographyCode                                         \n",
       "E01006679        1353     484                   354   \n",
       "\n",
       "               The Americas and the Caribbean  Antarctica and Oceania  Total  \n",
       "GeographyCode                                                                 \n",
       "E01006679                                  31                      10   2232  "
      ]
     },
     "execution_count": 23,
     "metadata": {},
     "output_type": "execute_result"
    }
   ],
   "source": [
    "oneOA = db.loc[db['Antarctica and Oceania'] == 10, :]\n",
    "oneOA"
   ]
  },
  {
   "cell_type": "markdown",
   "metadata": {},
   "source": [
    "**Pro-tip**: these queries can grow in sophistication with almost no limits. For example, here is a case where we want to find out the areas where European population is less than half the population:"
   ]
  },
  {
   "cell_type": "code",
   "execution_count": 24,
   "metadata": {},
   "outputs": [
    {
     "data": {
      "text/html": [
       "<div>\n",
       "<style scoped>\n",
       "    .dataframe tbody tr th:only-of-type {\n",
       "        vertical-align: middle;\n",
       "    }\n",
       "\n",
       "    .dataframe tbody tr th {\n",
       "        vertical-align: top;\n",
       "    }\n",
       "\n",
       "    .dataframe thead th {\n",
       "        text-align: right;\n",
       "    }\n",
       "</style>\n",
       "<table border=\"1\" class=\"dataframe\">\n",
       "  <thead>\n",
       "    <tr style=\"text-align: right;\">\n",
       "      <th></th>\n",
       "      <th>Europe</th>\n",
       "      <th>Africa</th>\n",
       "      <th>Middle East and Asia</th>\n",
       "      <th>The Americas and the Caribbean</th>\n",
       "      <th>Antarctica and Oceania</th>\n",
       "      <th>Total</th>\n",
       "    </tr>\n",
       "    <tr>\n",
       "      <th>GeographyCode</th>\n",
       "      <th></th>\n",
       "      <th></th>\n",
       "      <th></th>\n",
       "      <th></th>\n",
       "      <th></th>\n",
       "      <th></th>\n",
       "    </tr>\n",
       "  </thead>\n",
       "  <tbody>\n",
       "    <tr>\n",
       "      <th>E01006512</th>\n",
       "      <td>910</td>\n",
       "      <td>106</td>\n",
       "      <td>840</td>\n",
       "      <td>24</td>\n",
       "      <td>0</td>\n",
       "      <td>1880</td>\n",
       "    </tr>\n",
       "  </tbody>\n",
       "</table>\n",
       "</div>"
      ],
      "text/plain": [
       "               Europe  Africa  Middle East and Asia  \\\n",
       "GeographyCode                                         \n",
       "E01006512         910     106                   840   \n",
       "\n",
       "               The Americas and the Caribbean  Antarctica and Oceania  Total  \n",
       "GeographyCode                                                                 \n",
       "E01006512                                  24                       0   1880  "
      ]
     },
     "execution_count": 24,
     "metadata": {},
     "output_type": "execute_result"
    }
   ],
   "source": [
    "eu_lth = db.loc[(db['Europe'] * 100. / db['Total']) < 50, :]\n",
    "eu_lth"
   ]
  },
  {
   "cell_type": "markdown",
   "metadata": {},
   "source": [
    "```{margin}\n",
    "If you are interested, more detail about `query` is available on the [official `pandas` documentation](https://pandas.pydata.org/pandas-docs/stable/user_guide/indexing.html#the-query-method).\n",
    "```\n",
    "All the condition-based queries above are expressed using the `loc` operator. This is a powerful way and, since it shares syntax with index-based queries, it is also easier to remember. However, sometimes querying using `loc` involves a lot of quotation marks, parenthesis, etc. A more streamlined approach for condition-based queries of rows is provided by the `query` engine. Using this approach, we express everything in our query on a single string, or piece of text, and that is evaluated in the table at once. For example, we can run the same operation as in the first query above with the following syntax:"
   ]
  },
  {
   "cell_type": "code",
   "execution_count": 25,
   "metadata": {},
   "outputs": [],
   "source": [
    "m5k_query = db.query(\"Total > 2500\")"
   ]
  },
  {
   "cell_type": "markdown",
   "metadata": {},
   "source": [
    "If we want to combine operations, this is also possible:"
   ]
  },
  {
   "cell_type": "code",
   "execution_count": 26,
   "metadata": {},
   "outputs": [],
   "source": [
    "m5k_query2 = db.query(\"(Total > 2500) & (Total < 10000)\")"
   ]
  },
  {
   "cell_type": "markdown",
   "metadata": {},
   "source": [
    "Note that, in these cases, using `query` results in code that is much more streamlined and easier to read. However, `query` is not perfect and, particularly for more sophisticated queries, it does not afford the same degree of flexibility. For example, the last query we had using `loc` would not be possible using `query`."
   ]
  },
  {
   "cell_type": "markdown",
   "metadata": {},
   "source": [
    "### Combining queries\n",
    "\n",
    "Now all of these queries can be combined with each other, for further flexibility. For example, imagine we want areas with more than 25 people from the Americas and Caribbean, but less than 1,500 in total:"
   ]
  },
  {
   "cell_type": "code",
   "execution_count": 27,
   "metadata": {},
   "outputs": [
    {
     "data": {
      "text/html": [
       "<div>\n",
       "<style scoped>\n",
       "    .dataframe tbody tr th:only-of-type {\n",
       "        vertical-align: middle;\n",
       "    }\n",
       "\n",
       "    .dataframe tbody tr th {\n",
       "        vertical-align: top;\n",
       "    }\n",
       "\n",
       "    .dataframe thead th {\n",
       "        text-align: right;\n",
       "    }\n",
       "</style>\n",
       "<table border=\"1\" class=\"dataframe\">\n",
       "  <thead>\n",
       "    <tr style=\"text-align: right;\">\n",
       "      <th></th>\n",
       "      <th>Europe</th>\n",
       "      <th>Africa</th>\n",
       "      <th>Middle East and Asia</th>\n",
       "      <th>The Americas and the Caribbean</th>\n",
       "      <th>Antarctica and Oceania</th>\n",
       "      <th>Total</th>\n",
       "    </tr>\n",
       "    <tr>\n",
       "      <th>GeographyCode</th>\n",
       "      <th></th>\n",
       "      <th></th>\n",
       "      <th></th>\n",
       "      <th></th>\n",
       "      <th></th>\n",
       "      <th></th>\n",
       "    </tr>\n",
       "  </thead>\n",
       "  <tbody>\n",
       "    <tr>\n",
       "      <th>E01033750</th>\n",
       "      <td>1235</td>\n",
       "      <td>53</td>\n",
       "      <td>129</td>\n",
       "      <td>26</td>\n",
       "      <td>5</td>\n",
       "      <td>1448</td>\n",
       "    </tr>\n",
       "    <tr>\n",
       "      <th>E01033752</th>\n",
       "      <td>1024</td>\n",
       "      <td>19</td>\n",
       "      <td>114</td>\n",
       "      <td>33</td>\n",
       "      <td>6</td>\n",
       "      <td>1196</td>\n",
       "    </tr>\n",
       "    <tr>\n",
       "      <th>E01033754</th>\n",
       "      <td>1262</td>\n",
       "      <td>37</td>\n",
       "      <td>112</td>\n",
       "      <td>32</td>\n",
       "      <td>9</td>\n",
       "      <td>1452</td>\n",
       "    </tr>\n",
       "    <tr>\n",
       "      <th>E01033756</th>\n",
       "      <td>886</td>\n",
       "      <td>31</td>\n",
       "      <td>221</td>\n",
       "      <td>42</td>\n",
       "      <td>5</td>\n",
       "      <td>1185</td>\n",
       "    </tr>\n",
       "    <tr>\n",
       "      <th>E01033757</th>\n",
       "      <td>731</td>\n",
       "      <td>39</td>\n",
       "      <td>223</td>\n",
       "      <td>29</td>\n",
       "      <td>3</td>\n",
       "      <td>1025</td>\n",
       "    </tr>\n",
       "    <tr>\n",
       "      <th>E01033761</th>\n",
       "      <td>1138</td>\n",
       "      <td>52</td>\n",
       "      <td>138</td>\n",
       "      <td>33</td>\n",
       "      <td>11</td>\n",
       "      <td>1372</td>\n",
       "    </tr>\n",
       "  </tbody>\n",
       "</table>\n",
       "</div>"
      ],
      "text/plain": [
       "               Europe  Africa  Middle East and Asia  \\\n",
       "GeographyCode                                         \n",
       "E01033750        1235      53                   129   \n",
       "E01033752        1024      19                   114   \n",
       "E01033754        1262      37                   112   \n",
       "E01033756         886      31                   221   \n",
       "E01033757         731      39                   223   \n",
       "E01033761        1138      52                   138   \n",
       "\n",
       "               The Americas and the Caribbean  Antarctica and Oceania  Total  \n",
       "GeographyCode                                                                 \n",
       "E01033750                                  26                       5   1448  \n",
       "E01033752                                  33                       6   1196  \n",
       "E01033754                                  32                       9   1452  \n",
       "E01033756                                  42                       5   1185  \n",
       "E01033757                                  29                       3   1025  \n",
       "E01033761                                  33                      11   1372  "
      ]
     },
     "execution_count": 27,
     "metadata": {},
     "output_type": "execute_result"
    }
   ],
   "source": [
    "ac25_l500 = db.loc[(db['The Americas and the Caribbean'] > 25) & \\\n",
    "                   (db['Total'] < 1500), :]\n",
    "ac25_l500"
   ]
  },
  {
   "cell_type": "markdown",
   "metadata": {},
   "source": [
    "### Sorting\n",
    "\n",
    "Among the many operations `DataFrame` objects support, one of the most useful ones is to sort a table based on a given column. For example, imagine we want to sort the table by total population:"
   ]
  },
  {
   "cell_type": "code",
   "execution_count": 28,
   "metadata": {},
   "outputs": [
    {
     "data": {
      "text/html": [
       "<div>\n",
       "<style scoped>\n",
       "    .dataframe tbody tr th:only-of-type {\n",
       "        vertical-align: middle;\n",
       "    }\n",
       "\n",
       "    .dataframe tbody tr th {\n",
       "        vertical-align: top;\n",
       "    }\n",
       "\n",
       "    .dataframe thead th {\n",
       "        text-align: right;\n",
       "    }\n",
       "</style>\n",
       "<table border=\"1\" class=\"dataframe\">\n",
       "  <thead>\n",
       "    <tr style=\"text-align: right;\">\n",
       "      <th></th>\n",
       "      <th>Europe</th>\n",
       "      <th>Africa</th>\n",
       "      <th>Middle East and Asia</th>\n",
       "      <th>The Americas and the Caribbean</th>\n",
       "      <th>Antarctica and Oceania</th>\n",
       "      <th>Total</th>\n",
       "    </tr>\n",
       "    <tr>\n",
       "      <th>GeographyCode</th>\n",
       "      <th></th>\n",
       "      <th></th>\n",
       "      <th></th>\n",
       "      <th></th>\n",
       "      <th></th>\n",
       "      <th></th>\n",
       "    </tr>\n",
       "  </thead>\n",
       "  <tbody>\n",
       "    <tr>\n",
       "      <th>E01006747</th>\n",
       "      <td>2551</td>\n",
       "      <td>163</td>\n",
       "      <td>812</td>\n",
       "      <td>24</td>\n",
       "      <td>2</td>\n",
       "      <td>3552</td>\n",
       "    </tr>\n",
       "    <tr>\n",
       "      <th>E01006513</th>\n",
       "      <td>2225</td>\n",
       "      <td>61</td>\n",
       "      <td>595</td>\n",
       "      <td>53</td>\n",
       "      <td>7</td>\n",
       "      <td>2941</td>\n",
       "    </tr>\n",
       "    <tr>\n",
       "      <th>E01006751</th>\n",
       "      <td>1843</td>\n",
       "      <td>139</td>\n",
       "      <td>568</td>\n",
       "      <td>21</td>\n",
       "      <td>1</td>\n",
       "      <td>2572</td>\n",
       "    </tr>\n",
       "    <tr>\n",
       "      <th>E01006524</th>\n",
       "      <td>2235</td>\n",
       "      <td>36</td>\n",
       "      <td>125</td>\n",
       "      <td>24</td>\n",
       "      <td>11</td>\n",
       "      <td>2431</td>\n",
       "    </tr>\n",
       "    <tr>\n",
       "      <th>E01006787</th>\n",
       "      <td>2187</td>\n",
       "      <td>53</td>\n",
       "      <td>75</td>\n",
       "      <td>13</td>\n",
       "      <td>2</td>\n",
       "      <td>2330</td>\n",
       "    </tr>\n",
       "  </tbody>\n",
       "</table>\n",
       "</div>"
      ],
      "text/plain": [
       "               Europe  Africa  Middle East and Asia  \\\n",
       "GeographyCode                                         \n",
       "E01006747        2551     163                   812   \n",
       "E01006513        2225      61                   595   \n",
       "E01006751        1843     139                   568   \n",
       "E01006524        2235      36                   125   \n",
       "E01006787        2187      53                    75   \n",
       "\n",
       "               The Americas and the Caribbean  Antarctica and Oceania  Total  \n",
       "GeographyCode                                                                 \n",
       "E01006747                                  24                       2   3552  \n",
       "E01006513                                  53                       7   2941  \n",
       "E01006751                                  21                       1   2572  \n",
       "E01006524                                  24                      11   2431  \n",
       "E01006787                                  13                       2   2330  "
      ]
     },
     "execution_count": 28,
     "metadata": {},
     "output_type": "execute_result"
    }
   ],
   "source": [
    "db_pop_sorted = db.sort_values('Total', ascending=False)\n",
    "db_pop_sorted.head()"
   ]
  },
  {
   "cell_type": "markdown",
   "metadata": {},
   "source": [
    "If you inspect the help of `db.sort_values`, you will find that you can pass more than one column to sort the table by. This allows you to do so-called hiearchical sorting: sort first based on one column, if equal then based on another column, etc.\n",
    "\n",
    "## Visual exploration\n",
    "\n",
    "The next step to continue exploring a dataset is to get a feel for what it looks like, visually. We have already learnt how to unconver and inspect specific parts of the data, to check for particular cases we might be intersted in. Now we will see how to plot the data to get a sense of the overall distribution of values. For that, we will be using the Python library [`seaborn`](http://stanford.edu/~mwaskom/software/seaborn/index.html).\n",
    "\n",
    "* Histograms.\n",
    "\n",
    "One of the most common graphical devices to display the distribution of values in a variable is a histogram. Values are assigned into groups of equal intervals, and the groups are plotted as bars rising as high as the number of values into the group. \n",
    "\n",
    "A histogram is easily created with the following command. In this case, let us have a look at the shape of the overall population:"
   ]
  },
  {
   "cell_type": "code",
   "execution_count": 29,
   "metadata": {},
   "outputs": [
    {
     "data": {
      "image/png": "[encoded data removed]",
      "text/plain": [
       "<Figure size 432x288 with 1 Axes>"
      ]
     },
     "metadata": {
      "needs_background": "light"
     },
     "output_type": "display_data"
    }
   ],
   "source": [
    "_ = sns.distplot(db['Total'], kde=False)"
   ]
  },
  {
   "cell_type": "markdown",
   "metadata": {},
   "source": [
    "Note we are using `sns` instead of `pd`, as the function belongs to `seaborn` instead of `pandas`.\n",
    "\n",
    "We can quickly see most of the areas contain somewhere between 1,200 and 1,700 people, approx. However, there are a few areas that have many more, even up to 3,500 people.\n",
    "\n",
    "An additional feature to visualize the density of values is called `rug`, and adds a little tick for each value on the horizontal axis:"
   ]
  },
  {
   "cell_type": "code",
   "execution_count": 30,
   "metadata": {},
   "outputs": [
    {
     "data": {
      "image/png": "[encoded data removed]",
      "text/plain": [
       "<Figure size 432x288 with 1 Axes>"
      ]
     },
     "metadata": {
      "needs_background": "light"
     },
     "output_type": "display_data"
    }
   ],
   "source": [
    "_ = sns.distplot(db['Total'], kde=False, rug=True)"
   ]
  },
  {
   "cell_type": "markdown",
   "metadata": {},
   "source": [
    "* Kernel Density Plots\n",
    "\n",
    "Histograms are useful, but they are artificial in the sense that a continuous variable is made discrete by turning the values into discrete groups. An alternative is kernel density estimation (KDE), which produces an empirical density function:"
   ]
  },
  {
   "cell_type": "code",
   "execution_count": 31,
   "metadata": {},
   "outputs": [
    {
     "data": {
      "image/png": "[encoded data removed]",
      "text/plain": [
       "<Figure size 432x288 with 1 Axes>"
      ]
     },
     "metadata": {
      "needs_background": "light"
     },
     "output_type": "display_data"
    }
   ],
   "source": [
    "_ = sns.kdeplot(db['Total'], shade=True)"
   ]
  },
  {
   "cell_type": "markdown",
   "metadata": {},
   "source": [
    "* Line and bar plots\n",
    "\n",
    "Another very common way of visually displaying a variable is with a line or a bar chart. For example, if we want to generate a line plot of the (sorted) total population by area:"
   ]
  },
  {
   "cell_type": "code",
   "execution_count": 32,
   "metadata": {},
   "outputs": [
    {
     "name": "stderr",
     "output_type": "stream",
     "text": [
      "/opt/conda/lib/python3.7/site-packages/pandas/plotting/_matplotlib/core.py:1235: UserWarning: FixedFormatter should only be used together with FixedLocator\n",
      "  ax.set_xticklabels(xticklabels)\n"
     ]
    },
    {
     "data": {
      "image/png": "[encoded data removed]",
      "text/plain": [
       "<Figure size 432x288 with 1 Axes>"
      ]
     },
     "metadata": {
      "needs_background": "light"
     },
     "output_type": "display_data"
    }
   ],
   "source": [
    "_ = db['Total'].sort_values(ascending=False).plot()"
   ]
  },
  {
   "cell_type": "markdown",
   "metadata": {},
   "source": [
    "For a bar plot all we need to do is to change from `plot` to `plot.bar`. Since there are many neighbourhoods, let us plot only the ten largest ones (which we can retrieve with `head`):"
   ]
  },
  {
   "cell_type": "code",
   "execution_count": 33,
   "metadata": {},
   "outputs": [
    {
     "data": {
      "image/png": "[encoded data removed]",
      "text/plain": [
       "<Figure size 432x288 with 1 Axes>"
      ]
     },
     "metadata": {
      "needs_background": "light"
     },
     "output_type": "display_data"
    }
   ],
   "source": [
    "_ = db['Total'].sort_values(ascending=False)\\\n",
    "               .head(10)\\\n",
    "               .plot.bar()"
   ]
  },
  {
   "cell_type": "markdown",
   "metadata": {},
   "source": [
    "We can turn the plot around by displaying the bars horizontally (see how it's just changing `bar` for `barh`). Let's display now the top 50 areas and, to make it more readable, let us expand the plot's height:"
   ]
  },
  {
   "cell_type": "code",
   "execution_count": 34,
   "metadata": {},
   "outputs": [
    {
     "data": {
      "image/png": "[encoded data removed]",
      "text/plain": [
       "<Figure size 432x1440 with 1 Axes>"
      ]
     },
     "metadata": {
      "needs_background": "light"
     },
     "output_type": "display_data"
    }
   ],
   "source": [
    "_ = db['Total'].sort_values()\\\n",
    "               .head(50)\\\n",
    "               .plot.barh(figsize=(6, 20))"
   ]
  },
  {
   "cell_type": "markdown",
   "metadata": {},
   "source": [
    "## Un/tidy data\n",
    "\n",
    "```{warning}\n",
    "This section is a bit more advanced and hence considered optional. Fell free to skip it, move to the next, and return later when you feel more confident.\n",
    "```\n",
    "\n",
    "> *Happy families are all alike; every\n",
    "unhappy family is unhappy in its own\n",
    "way.*  \n",
    "> Leo Tolstoy.\n",
    "\n",
    "Once you can read your data in, explore specific cases, and have a first visual approach to the entire set, the next step can be preparing it for more sophisticated analysis. Maybe you are thinking of modeling it through regression, or on creating subgroups in the dataset with particular characteristics, or maybe you simply need to present summary measures that relate to a slightly different arrangement of the data than you have been presented with.\n",
    "\n",
    "For all these cases, you first need what statistician, and general R wizard, Hadley Wickham calls *\"tidy data\"*. The general idea to \"tidy\" your data is to convert them from whatever structure they were handed in to you into one that allows convenient and standardized manipulation, and that supports directly inputting the data into what he calls \"*tidy*\" analysis tools. But, at a more practical level, what is exactly *\"tidy data\"*? In Wickham's own words:\n",
    "\n",
    "> *Tidy data is a standard way of mapping the meaning of a dataset to its structure. A dataset is\n",
    "messy or tidy depending on how rows, columns and tables are matched up with observations,\n",
    "variables and types.*\n",
    "\n",
    "He then goes on to list the three fundamental characteristics of *\"tidy data\"*:\n",
    "\n",
    "1. Each variable forms a column.\n",
    "1. Each observation forms a row.\n",
    "1. Each type of observational unit forms a table.\n",
    "\n",
    "If you are further interested in the concept of *\"tidy data\"*, I recommend you check out the [original paper](http://www.jstatsoft.org/v59/i10/) (open access) and the [public repository](https://github.com/hadley/tidy-data) associated with it.\n",
    "\n",
    "Let us bring in the concept of \"*tidy data*\" to our own Liverpool dataset. First, remember its structure:"
   ]
  },
  {
   "cell_type": "code",
   "execution_count": 35,
   "metadata": {},
   "outputs": [
    {
     "data": {
      "text/html": [
       "<div>\n",
       "<style scoped>\n",
       "    .dataframe tbody tr th:only-of-type {\n",
       "        vertical-align: middle;\n",
       "    }\n",
       "\n",
       "    .dataframe tbody tr th {\n",
       "        vertical-align: top;\n",
       "    }\n",
       "\n",
       "    .dataframe thead th {\n",
       "        text-align: right;\n",
       "    }\n",
       "</style>\n",
       "<table border=\"1\" class=\"dataframe\">\n",
       "  <thead>\n",
       "    <tr style=\"text-align: right;\">\n",
       "      <th></th>\n",
       "      <th>Europe</th>\n",
       "      <th>Africa</th>\n",
       "      <th>Middle East and Asia</th>\n",
       "      <th>The Americas and the Caribbean</th>\n",
       "      <th>Antarctica and Oceania</th>\n",
       "      <th>Total</th>\n",
       "    </tr>\n",
       "    <tr>\n",
       "      <th>GeographyCode</th>\n",
       "      <th></th>\n",
       "      <th></th>\n",
       "      <th></th>\n",
       "      <th></th>\n",
       "      <th></th>\n",
       "      <th></th>\n",
       "    </tr>\n",
       "  </thead>\n",
       "  <tbody>\n",
       "    <tr>\n",
       "      <th>E01006512</th>\n",
       "      <td>910</td>\n",
       "      <td>106</td>\n",
       "      <td>840</td>\n",
       "      <td>24</td>\n",
       "      <td>0</td>\n",
       "      <td>1880</td>\n",
       "    </tr>\n",
       "    <tr>\n",
       "      <th>E01006513</th>\n",
       "      <td>2225</td>\n",
       "      <td>61</td>\n",
       "      <td>595</td>\n",
       "      <td>53</td>\n",
       "      <td>7</td>\n",
       "      <td>2941</td>\n",
       "    </tr>\n",
       "    <tr>\n",
       "      <th>E01006514</th>\n",
       "      <td>1786</td>\n",
       "      <td>63</td>\n",
       "      <td>193</td>\n",
       "      <td>61</td>\n",
       "      <td>5</td>\n",
       "      <td>2108</td>\n",
       "    </tr>\n",
       "    <tr>\n",
       "      <th>E01006515</th>\n",
       "      <td>974</td>\n",
       "      <td>29</td>\n",
       "      <td>185</td>\n",
       "      <td>18</td>\n",
       "      <td>2</td>\n",
       "      <td>1208</td>\n",
       "    </tr>\n",
       "    <tr>\n",
       "      <th>E01006518</th>\n",
       "      <td>1531</td>\n",
       "      <td>69</td>\n",
       "      <td>73</td>\n",
       "      <td>19</td>\n",
       "      <td>4</td>\n",
       "      <td>1696</td>\n",
       "    </tr>\n",
       "  </tbody>\n",
       "</table>\n",
       "</div>"
      ],
      "text/plain": [
       "               Europe  Africa  Middle East and Asia  \\\n",
       "GeographyCode                                         \n",
       "E01006512         910     106                   840   \n",
       "E01006513        2225      61                   595   \n",
       "E01006514        1786      63                   193   \n",
       "E01006515         974      29                   185   \n",
       "E01006518        1531      69                    73   \n",
       "\n",
       "               The Americas and the Caribbean  Antarctica and Oceania  Total  \n",
       "GeographyCode                                                                 \n",
       "E01006512                                  24                       0   1880  \n",
       "E01006513                                  53                       7   2941  \n",
       "E01006514                                  61                       5   2108  \n",
       "E01006515                                  18                       2   1208  \n",
       "E01006518                                  19                       4   1696  "
      ]
     },
     "execution_count": 35,
     "metadata": {},
     "output_type": "execute_result"
    }
   ],
   "source": [
    "db.head()"
   ]
  },
  {
   "cell_type": "markdown",
   "metadata": {},
   "source": [
    "Thinking through *tidy* lenses, this is not a tidy dataset. It is not so for each of the three conditions:\n",
    "\n",
    "* Starting by the last one (*each type of observational unit forms a table*), this dataset actually contains not one but two observational units: the different areas of Liverpool, captured by `GeographyCode`; *and* subgroups of an area. To *tidy* up this aspect, we can create two different tables:"
   ]
  },
  {
   "cell_type": "code",
   "execution_count": 36,
   "metadata": {},
   "outputs": [
    {
     "data": {
      "text/html": [
       "<div>\n",
       "<style scoped>\n",
       "    .dataframe tbody tr th:only-of-type {\n",
       "        vertical-align: middle;\n",
       "    }\n",
       "\n",
       "    .dataframe tbody tr th {\n",
       "        vertical-align: top;\n",
       "    }\n",
       "\n",
       "    .dataframe thead th {\n",
       "        text-align: right;\n",
       "    }\n",
       "</style>\n",
       "<table border=\"1\" class=\"dataframe\">\n",
       "  <thead>\n",
       "    <tr style=\"text-align: right;\">\n",
       "      <th></th>\n",
       "      <th>Total</th>\n",
       "    </tr>\n",
       "    <tr>\n",
       "      <th>GeographyCode</th>\n",
       "      <th></th>\n",
       "    </tr>\n",
       "  </thead>\n",
       "  <tbody>\n",
       "    <tr>\n",
       "      <th>E01006512</th>\n",
       "      <td>1880</td>\n",
       "    </tr>\n",
       "    <tr>\n",
       "      <th>E01006513</th>\n",
       "      <td>2941</td>\n",
       "    </tr>\n",
       "    <tr>\n",
       "      <th>E01006514</th>\n",
       "      <td>2108</td>\n",
       "    </tr>\n",
       "    <tr>\n",
       "      <th>E01006515</th>\n",
       "      <td>1208</td>\n",
       "    </tr>\n",
       "    <tr>\n",
       "      <th>E01006518</th>\n",
       "      <td>1696</td>\n",
       "    </tr>\n",
       "  </tbody>\n",
       "</table>\n",
       "</div>"
      ],
      "text/plain": [
       "               Total\n",
       "GeographyCode       \n",
       "E01006512       1880\n",
       "E01006513       2941\n",
       "E01006514       2108\n",
       "E01006515       1208\n",
       "E01006518       1696"
      ]
     },
     "execution_count": 36,
     "metadata": {},
     "output_type": "execute_result"
    }
   ],
   "source": [
    "# Assign column `Total` into its own as a single-column table\n",
    "db_totals = db[['Total']]\n",
    "db_totals.head()"
   ]
  },
  {
   "cell_type": "code",
   "execution_count": 37,
   "metadata": {},
   "outputs": [
    {
     "data": {
      "text/html": [
       "<div>\n",
       "<style scoped>\n",
       "    .dataframe tbody tr th:only-of-type {\n",
       "        vertical-align: middle;\n",
       "    }\n",
       "\n",
       "    .dataframe tbody tr th {\n",
       "        vertical-align: top;\n",
       "    }\n",
       "\n",
       "    .dataframe thead th {\n",
       "        text-align: right;\n",
       "    }\n",
       "</style>\n",
       "<table border=\"1\" class=\"dataframe\">\n",
       "  <thead>\n",
       "    <tr style=\"text-align: right;\">\n",
       "      <th></th>\n",
       "      <th>Europe</th>\n",
       "      <th>Africa</th>\n",
       "      <th>Middle East and Asia</th>\n",
       "      <th>The Americas and the Caribbean</th>\n",
       "      <th>Antarctica and Oceania</th>\n",
       "    </tr>\n",
       "    <tr>\n",
       "      <th>GeographyCode</th>\n",
       "      <th></th>\n",
       "      <th></th>\n",
       "      <th></th>\n",
       "      <th></th>\n",
       "      <th></th>\n",
       "    </tr>\n",
       "  </thead>\n",
       "  <tbody>\n",
       "    <tr>\n",
       "      <th>E01006512</th>\n",
       "      <td>910</td>\n",
       "      <td>106</td>\n",
       "      <td>840</td>\n",
       "      <td>24</td>\n",
       "      <td>0</td>\n",
       "    </tr>\n",
       "    <tr>\n",
       "      <th>E01006513</th>\n",
       "      <td>2225</td>\n",
       "      <td>61</td>\n",
       "      <td>595</td>\n",
       "      <td>53</td>\n",
       "      <td>7</td>\n",
       "    </tr>\n",
       "    <tr>\n",
       "      <th>E01006514</th>\n",
       "      <td>1786</td>\n",
       "      <td>63</td>\n",
       "      <td>193</td>\n",
       "      <td>61</td>\n",
       "      <td>5</td>\n",
       "    </tr>\n",
       "    <tr>\n",
       "      <th>E01006515</th>\n",
       "      <td>974</td>\n",
       "      <td>29</td>\n",
       "      <td>185</td>\n",
       "      <td>18</td>\n",
       "      <td>2</td>\n",
       "    </tr>\n",
       "    <tr>\n",
       "      <th>E01006518</th>\n",
       "      <td>1531</td>\n",
       "      <td>69</td>\n",
       "      <td>73</td>\n",
       "      <td>19</td>\n",
       "      <td>4</td>\n",
       "    </tr>\n",
       "  </tbody>\n",
       "</table>\n",
       "</div>"
      ],
      "text/plain": [
       "               Europe  Africa  Middle East and Asia  \\\n",
       "GeographyCode                                         \n",
       "E01006512         910     106                   840   \n",
       "E01006513        2225      61                   595   \n",
       "E01006514        1786      63                   193   \n",
       "E01006515         974      29                   185   \n",
       "E01006518        1531      69                    73   \n",
       "\n",
       "               The Americas and the Caribbean  Antarctica and Oceania  \n",
       "GeographyCode                                                          \n",
       "E01006512                                  24                       0  \n",
       "E01006513                                  53                       7  \n",
       "E01006514                                  61                       5  \n",
       "E01006515                                  18                       2  \n",
       "E01006518                                  19                       4  "
      ]
     },
     "execution_count": 37,
     "metadata": {},
     "output_type": "execute_result"
    }
   ],
   "source": [
    "# Create a table `db_subgroups` that contains every column in `db` without `Total`\n",
    "db_subgroups = db.drop('Total', axis=1)\n",
    "db_subgroups.head()"
   ]
  },
  {
   "cell_type": "markdown",
   "metadata": {},
   "source": [
    "Note we use `drop` to exclude \"Total\", but we could also use a list with the names of all the columns to keep. Additionally, notice how, in this case, the use of `drop` (which leaves `db` untouched) is preferred to that of `del` (which permanently removes the column from `db`).\n",
    "\n",
    "At this point, the table `db_totals` is tidy: every row is an observation, every table is a variable, and there is only one observational unit in the table.\n",
    "\n",
    "The other table (`db_subgroups`), however, is not entirely tidied up yet: there is only one observational unit in the table, true; but every row is not an observation, and there are variable values as the names of columns (in other words, every column is not a variable). To obtain a fully tidy version of the table, we need to re-arrange it in a way that every row is a population subgroup in an area, and there are three variables: `GeographyCode`, population subgroup, and population count (or frequency). \n",
    "\n",
    "Because this is actually a fairly common pattern, there is a direct way to solve it in `pandas`:"
   ]
  },
  {
   "cell_type": "code",
   "execution_count": 38,
   "metadata": {},
   "outputs": [
    {
     "data": {
      "text/plain": [
       "GeographyCode                                \n",
       "E01006512      Europe                            910\n",
       "               Africa                            106\n",
       "               Middle East and Asia              840\n",
       "               The Americas and the Caribbean     24\n",
       "               Antarctica and Oceania              0\n",
       "dtype: int64"
      ]
     },
     "execution_count": 38,
     "metadata": {},
     "output_type": "execute_result"
    }
   ],
   "source": [
    "tidy_subgroups = db_subgroups.stack()\n",
    "tidy_subgroups.head()"
   ]
  },
  {
   "cell_type": "markdown",
   "metadata": {},
   "source": [
    "The method `stack`, well, \"stacks\" the different columns into rows. This fixes our \"tidiness\" problems but the type of object that is returning is not a `DataFrame`:"
   ]
  },
  {
   "cell_type": "code",
   "execution_count": 39,
   "metadata": {},
   "outputs": [
    {
     "data": {
      "text/plain": [
       "pandas.core.series.Series"
      ]
     },
     "execution_count": 39,
     "metadata": {},
     "output_type": "execute_result"
    }
   ],
   "source": [
    "type(tidy_subgroups)"
   ]
  },
  {
   "cell_type": "markdown",
   "metadata": {},
   "source": [
    "It is a `Series`, which really is like a `DataFrame`, but with only one column. The additional information (`GeographyCode` and population group) are stored in what is called an multi-index. We will skip these for now, so we would really just want to get a `DataFrame` as we know it out of the `Series`. This is also one line of code away:"
   ]
  },
  {
   "cell_type": "code",
   "execution_count": 40,
   "metadata": {},
   "outputs": [
    {
     "data": {
      "text/html": [
       "<div>\n",
       "<style scoped>\n",
       "    .dataframe tbody tr th:only-of-type {\n",
       "        vertical-align: middle;\n",
       "    }\n",
       "\n",
       "    .dataframe tbody tr th {\n",
       "        vertical-align: top;\n",
       "    }\n",
       "\n",
       "    .dataframe thead th {\n",
       "        text-align: right;\n",
       "    }\n",
       "</style>\n",
       "<table border=\"1\" class=\"dataframe\">\n",
       "  <thead>\n",
       "    <tr style=\"text-align: right;\">\n",
       "      <th></th>\n",
       "      <th>GeographyCode</th>\n",
       "      <th>level_1</th>\n",
       "      <th>0</th>\n",
       "    </tr>\n",
       "  </thead>\n",
       "  <tbody>\n",
       "    <tr>\n",
       "      <th>0</th>\n",
       "      <td>E01006512</td>\n",
       "      <td>Europe</td>\n",
       "      <td>910</td>\n",
       "    </tr>\n",
       "    <tr>\n",
       "      <th>1</th>\n",
       "      <td>E01006512</td>\n",
       "      <td>Africa</td>\n",
       "      <td>106</td>\n",
       "    </tr>\n",
       "    <tr>\n",
       "      <th>2</th>\n",
       "      <td>E01006512</td>\n",
       "      <td>Middle East and Asia</td>\n",
       "      <td>840</td>\n",
       "    </tr>\n",
       "    <tr>\n",
       "      <th>3</th>\n",
       "      <td>E01006512</td>\n",
       "      <td>The Americas and the Caribbean</td>\n",
       "      <td>24</td>\n",
       "    </tr>\n",
       "    <tr>\n",
       "      <th>4</th>\n",
       "      <td>E01006512</td>\n",
       "      <td>Antarctica and Oceania</td>\n",
       "      <td>0</td>\n",
       "    </tr>\n",
       "  </tbody>\n",
       "</table>\n",
       "</div>"
      ],
      "text/plain": [
       "  GeographyCode                         level_1    0\n",
       "0     E01006512                          Europe  910\n",
       "1     E01006512                          Africa  106\n",
       "2     E01006512            Middle East and Asia  840\n",
       "3     E01006512  The Americas and the Caribbean   24\n",
       "4     E01006512          Antarctica and Oceania    0"
      ]
     },
     "execution_count": 40,
     "metadata": {},
     "output_type": "execute_result"
    }
   ],
   "source": [
    "# Unfold the multi-index into different, new columns\n",
    "tidy_subgroupsDF = tidy_subgroups.reset_index()\n",
    "tidy_subgroupsDF.head()"
   ]
  },
  {
   "cell_type": "markdown",
   "metadata": {},
   "source": [
    "To which we can apply to renaming to make it look better:"
   ]
  },
  {
   "cell_type": "code",
   "execution_count": 41,
   "metadata": {},
   "outputs": [
    {
     "data": {
      "text/html": [
       "<div>\n",
       "<style scoped>\n",
       "    .dataframe tbody tr th:only-of-type {\n",
       "        vertical-align: middle;\n",
       "    }\n",
       "\n",
       "    .dataframe tbody tr th {\n",
       "        vertical-align: top;\n",
       "    }\n",
       "\n",
       "    .dataframe thead th {\n",
       "        text-align: right;\n",
       "    }\n",
       "</style>\n",
       "<table border=\"1\" class=\"dataframe\">\n",
       "  <thead>\n",
       "    <tr style=\"text-align: right;\">\n",
       "      <th></th>\n",
       "      <th>GeographyCode</th>\n",
       "      <th>Subgroup</th>\n",
       "      <th>Freq</th>\n",
       "    </tr>\n",
       "  </thead>\n",
       "  <tbody>\n",
       "    <tr>\n",
       "      <th>0</th>\n",
       "      <td>E01006512</td>\n",
       "      <td>Europe</td>\n",
       "      <td>910</td>\n",
       "    </tr>\n",
       "    <tr>\n",
       "      <th>1</th>\n",
       "      <td>E01006512</td>\n",
       "      <td>Africa</td>\n",
       "      <td>106</td>\n",
       "    </tr>\n",
       "    <tr>\n",
       "      <th>2</th>\n",
       "      <td>E01006512</td>\n",
       "      <td>Middle East and Asia</td>\n",
       "      <td>840</td>\n",
       "    </tr>\n",
       "    <tr>\n",
       "      <th>3</th>\n",
       "      <td>E01006512</td>\n",
       "      <td>The Americas and the Caribbean</td>\n",
       "      <td>24</td>\n",
       "    </tr>\n",
       "    <tr>\n",
       "      <th>4</th>\n",
       "      <td>E01006512</td>\n",
       "      <td>Antarctica and Oceania</td>\n",
       "      <td>0</td>\n",
       "    </tr>\n",
       "  </tbody>\n",
       "</table>\n",
       "</div>"
      ],
      "text/plain": [
       "  GeographyCode                        Subgroup  Freq\n",
       "0     E01006512                          Europe   910\n",
       "1     E01006512                          Africa   106\n",
       "2     E01006512            Middle East and Asia   840\n",
       "3     E01006512  The Americas and the Caribbean    24\n",
       "4     E01006512          Antarctica and Oceania     0"
      ]
     },
     "execution_count": 41,
     "metadata": {},
     "output_type": "execute_result"
    }
   ],
   "source": [
    "tidy_subgroupsDF = tidy_subgroupsDF.rename(columns={'level_1': 'Subgroup', 0: 'Freq'})\n",
    "tidy_subgroupsDF.head()"
   ]
  },
  {
   "cell_type": "markdown",
   "metadata": {},
   "source": [
    "Now our table is fully tidied up!\n",
    "\n",
    "### Grouping, transforming, aggregating\n",
    "\n",
    "One of the advantage of tidy datasets is they allow to perform advanced transformations in a more direct way. One of the most common ones is what is called \"group-by\" operations. Originated in the world of databases, these operations allow you to group observations in a table by one of its labels, index, or category, and apply operations on the data group by group. \n",
    "\n",
    "For example, given our tidy table with population subgroups, we might want to compute the total sum of population by each group. This task can be split into two different ones:\n",
    "\n",
    "* Group the table in each of the different subgroups.\n",
    "* Compute the sum of `Freq` for each of them.\n",
    "\n",
    "To do this in `pandas`, meet one of its workhorses, and also one of the reasons why the library has become so popular: the `groupby` operator."
   ]
  },
  {
   "cell_type": "code",
   "execution_count": 42,
   "metadata": {},
   "outputs": [
    {
     "data": {
      "text/plain": [
       "<pandas.core.groupby.generic.DataFrameGroupBy object at 0x7f3d01696ad0>"
      ]
     },
     "execution_count": 42,
     "metadata": {},
     "output_type": "execute_result"
    }
   ],
   "source": [
    "pop_grouped = tidy_subgroupsDF.groupby('Subgroup')\n",
    "pop_grouped"
   ]
  },
  {
   "cell_type": "markdown",
   "metadata": {},
   "source": [
    "The object `pop_grouped` still hasn't computed anything, it is only a convenient way of specifying the grouping. But this allows us then to perform a multitude of operations on it. For our example, the sum is calculated as follows:"
   ]
  },
  {
   "cell_type": "code",
   "execution_count": 43,
   "metadata": {},
   "outputs": [
    {
     "data": {
      "text/html": [
       "<div>\n",
       "<style scoped>\n",
       "    .dataframe tbody tr th:only-of-type {\n",
       "        vertical-align: middle;\n",
       "    }\n",
       "\n",
       "    .dataframe tbody tr th {\n",
       "        vertical-align: top;\n",
       "    }\n",
       "\n",
       "    .dataframe thead th {\n",
       "        text-align: right;\n",
       "    }\n",
       "</style>\n",
       "<table border=\"1\" class=\"dataframe\">\n",
       "  <thead>\n",
       "    <tr style=\"text-align: right;\">\n",
       "      <th></th>\n",
       "      <th>Freq</th>\n",
       "    </tr>\n",
       "    <tr>\n",
       "      <th>Subgroup</th>\n",
       "      <th></th>\n",
       "    </tr>\n",
       "  </thead>\n",
       "  <tbody>\n",
       "    <tr>\n",
       "      <th>Africa</th>\n",
       "      <td>8886</td>\n",
       "    </tr>\n",
       "    <tr>\n",
       "      <th>Antarctica and Oceania</th>\n",
       "      <td>581</td>\n",
       "    </tr>\n",
       "    <tr>\n",
       "      <th>Europe</th>\n",
       "      <td>435790</td>\n",
       "    </tr>\n",
       "    <tr>\n",
       "      <th>Middle East and Asia</th>\n",
       "      <td>18747</td>\n",
       "    </tr>\n",
       "    <tr>\n",
       "      <th>The Americas and the Caribbean</th>\n",
       "      <td>2410</td>\n",
       "    </tr>\n",
       "  </tbody>\n",
       "</table>\n",
       "</div>"
      ],
      "text/plain": [
       "                                  Freq\n",
       "Subgroup                              \n",
       "Africa                            8886\n",
       "Antarctica and Oceania             581\n",
       "Europe                          435790\n",
       "Middle East and Asia             18747\n",
       "The Americas and the Caribbean    2410"
      ]
     },
     "execution_count": 43,
     "metadata": {},
     "output_type": "execute_result"
    }
   ],
   "source": [
    "pop_grouped.sum()"
   ]
  },
  {
   "cell_type": "markdown",
   "metadata": {},
   "source": [
    "Similarly, you can also obtain a summary of each group:"
   ]
  },
  {
   "cell_type": "code",
   "execution_count": 44,
   "metadata": {},
   "outputs": [
    {
     "data": {
      "text/html": [
       "<div>\n",
       "<style scoped>\n",
       "    .dataframe tbody tr th:only-of-type {\n",
       "        vertical-align: middle;\n",
       "    }\n",
       "\n",
       "    .dataframe tbody tr th {\n",
       "        vertical-align: top;\n",
       "    }\n",
       "\n",
       "    .dataframe thead tr th {\n",
       "        text-align: left;\n",
       "    }\n",
       "\n",
       "    .dataframe thead tr:last-of-type th {\n",
       "        text-align: right;\n",
       "    }\n",
       "</style>\n",
       "<table border=\"1\" class=\"dataframe\">\n",
       "  <thead>\n",
       "    <tr>\n",
       "      <th></th>\n",
       "      <th colspan=\"8\" halign=\"left\">Freq</th>\n",
       "    </tr>\n",
       "    <tr>\n",
       "      <th></th>\n",
       "      <th>count</th>\n",
       "      <th>mean</th>\n",
       "      <th>std</th>\n",
       "      <th>min</th>\n",
       "      <th>25%</th>\n",
       "      <th>50%</th>\n",
       "      <th>75%</th>\n",
       "      <th>max</th>\n",
       "    </tr>\n",
       "    <tr>\n",
       "      <th>Subgroup</th>\n",
       "      <th></th>\n",
       "      <th></th>\n",
       "      <th></th>\n",
       "      <th></th>\n",
       "      <th></th>\n",
       "      <th></th>\n",
       "      <th></th>\n",
       "      <th></th>\n",
       "    </tr>\n",
       "  </thead>\n",
       "  <tbody>\n",
       "    <tr>\n",
       "      <th>Africa</th>\n",
       "      <td>298.0</td>\n",
       "      <td>29.818792</td>\n",
       "      <td>51.606065</td>\n",
       "      <td>0.0</td>\n",
       "      <td>7.00</td>\n",
       "      <td>14.0</td>\n",
       "      <td>30.00</td>\n",
       "      <td>484.0</td>\n",
       "    </tr>\n",
       "    <tr>\n",
       "      <th>Antarctica and Oceania</th>\n",
       "      <td>298.0</td>\n",
       "      <td>1.949664</td>\n",
       "      <td>2.168216</td>\n",
       "      <td>0.0</td>\n",
       "      <td>0.00</td>\n",
       "      <td>1.0</td>\n",
       "      <td>3.00</td>\n",
       "      <td>11.0</td>\n",
       "    </tr>\n",
       "    <tr>\n",
       "      <th>Europe</th>\n",
       "      <td>298.0</td>\n",
       "      <td>1462.382550</td>\n",
       "      <td>248.673290</td>\n",
       "      <td>731.0</td>\n",
       "      <td>1331.25</td>\n",
       "      <td>1446.0</td>\n",
       "      <td>1579.75</td>\n",
       "      <td>2551.0</td>\n",
       "    </tr>\n",
       "    <tr>\n",
       "      <th>Middle East and Asia</th>\n",
       "      <td>298.0</td>\n",
       "      <td>62.909396</td>\n",
       "      <td>102.519614</td>\n",
       "      <td>1.0</td>\n",
       "      <td>16.00</td>\n",
       "      <td>33.5</td>\n",
       "      <td>62.75</td>\n",
       "      <td>840.0</td>\n",
       "    </tr>\n",
       "    <tr>\n",
       "      <th>The Americas and the Caribbean</th>\n",
       "      <td>298.0</td>\n",
       "      <td>8.087248</td>\n",
       "      <td>9.397638</td>\n",
       "      <td>0.0</td>\n",
       "      <td>2.00</td>\n",
       "      <td>5.0</td>\n",
       "      <td>10.00</td>\n",
       "      <td>61.0</td>\n",
       "    </tr>\n",
       "  </tbody>\n",
       "</table>\n",
       "</div>"
      ],
      "text/plain": [
       "                                 Freq                                  \\\n",
       "                                count         mean         std    min   \n",
       "Subgroup                                                                \n",
       "Africa                          298.0    29.818792   51.606065    0.0   \n",
       "Antarctica and Oceania          298.0     1.949664    2.168216    0.0   \n",
       "Europe                          298.0  1462.382550  248.673290  731.0   \n",
       "Middle East and Asia            298.0    62.909396  102.519614    1.0   \n",
       "The Americas and the Caribbean  298.0     8.087248    9.397638    0.0   \n",
       "\n",
       "                                                                  \n",
       "                                    25%     50%      75%     max  \n",
       "Subgroup                                                          \n",
       "Africa                             7.00    14.0    30.00   484.0  \n",
       "Antarctica and Oceania             0.00     1.0     3.00    11.0  \n",
       "Europe                          1331.25  1446.0  1579.75  2551.0  \n",
       "Middle East and Asia              16.00    33.5    62.75   840.0  \n",
       "The Americas and the Caribbean     2.00     5.0    10.00    61.0  "
      ]
     },
     "execution_count": 44,
     "metadata": {},
     "output_type": "execute_result"
    }
   ],
   "source": [
    "pop_grouped.describe()"
   ]
  },
  {
   "cell_type": "markdown",
   "metadata": {},
   "source": [
    "We will not get into it today as it goes beyond the basics we want to conver, but keep in mind that `groupby` allows you to not only call generic functions (like `sum` or `describe`), but also your own functions. This opens the door for virtually any kind of transformation and aggregation possible."
   ]
  },
  {
   "cell_type": "markdown",
   "metadata": {},
   "source": [
    "## Additional lab materials\n",
    "\n",
    "The following provide a good \"next step\" from some of the concepts and tools covered in the [lab](lab_B) and [DIY](diy_B) sections of this block:\n",
    "\n",
    "* This [NY Times article](http://www.nytimes.com/2014/08/18/technology/for-big-data-scientists-hurdle-to-insights-is-janitor-work.html?_r=0) does a good job at conveying the relevance of data \"cleaning\" and {ref}`munging <lab_A-data_munging>`.\n",
    "* A good introduction to data manipulation in Python is Wes McKinney's \"Python for Data Analysis\" {cite}`mckinney2012python`.\n",
    "* To explore further some of the visualization capabilities in at your fingertips, the Python library `seaborn` is an excellent choice. Its online [tutorial](http://stanford.edu/~mwaskom/software/seaborn/tutorial.html) is a fantastic place to start.\n",
    "* A good extension is Hadley Wickham' \"Tidy data\" paper {cite}`Wickham:2014:JSSOBK:v59i10`, which presents a very popular way of organising tabular data for efficient manipulation."
   ]
  }
 ],
 "metadata": {
  "kernelspec": {
   "display_name": "Python 3 (ipykernel)",
   "language": "python",
   "name": "python3"
  },
  "language_info": {
   "codemirror_mode": {
    "name": "ipython",
    "version": 3
   },
   "file_extension": ".py",
   "mimetype": "text/x-python",
   "name": "python",
   "nbconvert_exporter": "python",
   "pygments_lexer": "ipython3",
   "version": "3.10.6"
  },
  "toc-autonumbering": false,
  "toc-showtags": false
 },
 "nbformat": 4,
 "nbformat_minor": 4
}
